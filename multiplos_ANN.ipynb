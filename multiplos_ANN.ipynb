{
  "nbformat": 4,
  "nbformat_minor": 0,
  "metadata": {
    "colab": {
      "name": "multiplos ANN",
      "provenance": [],
      "collapsed_sections": []
    },
    "kernelspec": {
      "name": "python3",
      "display_name": "Python 3"
    }
  },
  "cells": [
    {
      "cell_type": "markdown",
      "metadata": {
        "id": "Ckv5ty6D-6_n"
      },
      "source": [
        "Importando bibliotecas usadas\n",
        "\n",
        "\n",
        "*   numpy usada para lidar com arrays\n",
        "*   matplotlib usada para lidar com plot de graficos\n",
        "*   pandas usada para lidar com dataframes (tabelas)\n",
        "*   csv para leitura de arquivos em csv\n",
        "*   pickle usada importar os dados em plk para ser usado em dicionario python\n",
        "*   coolab files para importar dados de fora para dentro do colab\n",
        "*   Classification_report para ver os resultados da classificação\n",
        "*   SMOTE para lidar com desbalanceamento de dados (oversampling)\n",
        "\n",
        "\n",
        "\n",
        "\n",
        "\n",
        "\n",
        "\n"
      ]
    },
    {
      "cell_type": "code",
      "metadata": {
        "id": "eS3QfZhV-UVC",
        "colab": {
          "base_uri": "https://localhost:8080/"
        },
        "outputId": "b5b3d2a8-3162-488f-c0ed-983d6b87eccc"
      },
      "source": [
        "# -*- coding: utf-8 -*-\n",
        "import numpy as np\n",
        "import matplotlib.pyplot as plt\n",
        "import pandas as pd\n",
        "import csv\n",
        "import pickle\n",
        "from google.colab import files\n",
        "from sklearn.metrics import classification_report\n",
        "from imblearn.over_sampling import SMOTE\n",
        "from math import sqrt\n",
        "import tensorflow as tf"
      ],
      "execution_count": 1,
      "outputs": [
        {
          "output_type": "stream",
          "text": [
            "/usr/local/lib/python3.7/dist-packages/sklearn/externals/six.py:31: FutureWarning: The module is deprecated in version 0.21 and will be removed in version 0.23 since we've dropped support for Python 2.7. Please rely on the official version of six (https://pypi.org/project/six/).\n",
            "  \"(https://pypi.org/project/six/).\", FutureWarning)\n",
            "/usr/local/lib/python3.7/dist-packages/sklearn/utils/deprecation.py:144: FutureWarning: The sklearn.neighbors.base module is  deprecated in version 0.22 and will be removed in version 0.24. The corresponding classes / functions should instead be imported from sklearn.neighbors. Anything that cannot be imported from sklearn.neighbors is now part of the private API.\n",
            "  warnings.warn(message, FutureWarning)\n"
          ],
          "name": "stderr"
        }
      ]
    },
    {
      "cell_type": "code",
      "metadata": {
        "colab": {
          "base_uri": "https://localhost:8080/",
          "height": 35
        },
        "id": "Omvl1LKRCEXU",
        "outputId": "e236bb88-d3c0-41c9-980c-7b0a6c6e7cc9"
      },
      "source": [
        "tf.__version__"
      ],
      "execution_count": 2,
      "outputs": [
        {
          "output_type": "execute_result",
          "data": {
            "application/vnd.google.colaboratory.intrinsic+json": {
              "type": "string"
            },
            "text/plain": [
              "'2.5.0'"
            ]
          },
          "metadata": {
            "tags": []
          },
          "execution_count": 2
        }
      ]
    },
    {
      "cell_type": "markdown",
      "metadata": {
        "id": "M3IBRkCcBYht"
      },
      "source": [
        "Criando dicionarios com os atributos\n",
        "\n",
        "A ideia de diferentes dicionarios é separar as atividades para facilitar o classificador ter menos dificuldades"
      ]
    },
    {
      "cell_type": "code",
      "metadata": {
        "id": "mscRd3-ZBSeT"
      },
      "source": [
        "ds1 = {'INFO1':[],'INFO2':[],'INFO3':[],'INFO4':[],'INFO5':[],'INFO6':[],'VM':[],'ACTIVITY':[]}"
      ],
      "execution_count": 3,
      "outputs": []
    },
    {
      "cell_type": "markdown",
      "metadata": {
        "id": "Bx3_ucmzIxme"
      },
      "source": [
        "Fazendo upload do arquivo no colab"
      ]
    },
    {
      "cell_type": "code",
      "metadata": {
        "id": "KYjVZaAwIuUG",
        "colab": {
          "resources": {
            "http://localhost:8080/nbextensions/google.colab/files.js": {
              "data": "Ly8gQ29weXJpZ2h0IDIwMTcgR29vZ2xlIExMQwovLwovLyBMaWNlbnNlZCB1bmRlciB0aGUgQXBhY2hlIExpY2Vuc2UsIFZlcnNpb24gMi4wICh0aGUgIkxpY2Vuc2UiKTsKLy8geW91IG1heSBub3QgdXNlIHRoaXMgZmlsZSBleGNlcHQgaW4gY29tcGxpYW5jZSB3aXRoIHRoZSBMaWNlbnNlLgovLyBZb3UgbWF5IG9idGFpbiBhIGNvcHkgb2YgdGhlIExpY2Vuc2UgYXQKLy8KLy8gICAgICBodHRwOi8vd3d3LmFwYWNoZS5vcmcvbGljZW5zZXMvTElDRU5TRS0yLjAKLy8KLy8gVW5sZXNzIHJlcXVpcmVkIGJ5IGFwcGxpY2FibGUgbGF3IG9yIGFncmVlZCB0byBpbiB3cml0aW5nLCBzb2Z0d2FyZQovLyBkaXN0cmlidXRlZCB1bmRlciB0aGUgTGljZW5zZSBpcyBkaXN0cmlidXRlZCBvbiBhbiAiQVMgSVMiIEJBU0lTLAovLyBXSVRIT1VUIFdBUlJBTlRJRVMgT1IgQ09ORElUSU9OUyBPRiBBTlkgS0lORCwgZWl0aGVyIGV4cHJlc3Mgb3IgaW1wbGllZC4KLy8gU2VlIHRoZSBMaWNlbnNlIGZvciB0aGUgc3BlY2lmaWMgbGFuZ3VhZ2UgZ292ZXJuaW5nIHBlcm1pc3Npb25zIGFuZAovLyBsaW1pdGF0aW9ucyB1bmRlciB0aGUgTGljZW5zZS4KCi8qKgogKiBAZmlsZW92ZXJ2aWV3IEhlbHBlcnMgZm9yIGdvb2dsZS5jb2xhYiBQeXRob24gbW9kdWxlLgogKi8KKGZ1bmN0aW9uKHNjb3BlKSB7CmZ1bmN0aW9uIHNwYW4odGV4dCwgc3R5bGVBdHRyaWJ1dGVzID0ge30pIHsKICBjb25zdCBlbGVtZW50ID0gZG9jdW1lbnQuY3JlYXRlRWxlbWVudCgnc3BhbicpOwogIGVsZW1lbnQudGV4dENvbnRlbnQgPSB0ZXh0OwogIGZvciAoY29uc3Qga2V5IG9mIE9iamVjdC5rZXlzKHN0eWxlQXR0cmlidXRlcykpIHsKICAgIGVsZW1lbnQuc3R5bGVba2V5XSA9IHN0eWxlQXR0cmlidXRlc1trZXldOwogIH0KICByZXR1cm4gZWxlbWVudDsKfQoKLy8gTWF4IG51bWJlciBvZiBieXRlcyB3aGljaCB3aWxsIGJlIHVwbG9hZGVkIGF0IGEgdGltZS4KY29uc3QgTUFYX1BBWUxPQURfU0laRSA9IDEwMCAqIDEwMjQ7CgpmdW5jdGlvbiBfdXBsb2FkRmlsZXMoaW5wdXRJZCwgb3V0cHV0SWQpIHsKICBjb25zdCBzdGVwcyA9IHVwbG9hZEZpbGVzU3RlcChpbnB1dElkLCBvdXRwdXRJZCk7CiAgY29uc3Qgb3V0cHV0RWxlbWVudCA9IGRvY3VtZW50LmdldEVsZW1lbnRCeUlkKG91dHB1dElkKTsKICAvLyBDYWNoZSBzdGVwcyBvbiB0aGUgb3V0cHV0RWxlbWVudCB0byBtYWtlIGl0IGF2YWlsYWJsZSBmb3IgdGhlIG5leHQgY2FsbAogIC8vIHRvIHVwbG9hZEZpbGVzQ29udGludWUgZnJvbSBQeXRob24uCiAgb3V0cHV0RWxlbWVudC5zdGVwcyA9IHN0ZXBzOwoKICByZXR1cm4gX3VwbG9hZEZpbGVzQ29udGludWUob3V0cHV0SWQpOwp9CgovLyBUaGlzIGlzIHJvdWdobHkgYW4gYXN5bmMgZ2VuZXJhdG9yIChub3Qgc3VwcG9ydGVkIGluIHRoZSBicm93c2VyIHlldCksCi8vIHdoZXJlIHRoZXJlIGFyZSBtdWx0aXBsZSBhc3luY2hyb25vdXMgc3RlcHMgYW5kIHRoZSBQeXRob24gc2lkZSBpcyBnb2luZwovLyB0byBwb2xsIGZvciBjb21wbGV0aW9uIG9mIGVhY2ggc3RlcC4KLy8gVGhpcyB1c2VzIGEgUHJvbWlzZSB0byBibG9jayB0aGUgcHl0aG9uIHNpZGUgb24gY29tcGxldGlvbiBvZiBlYWNoIHN0ZXAsCi8vIHRoZW4gcGFzc2VzIHRoZSByZXN1bHQgb2YgdGhlIHByZXZpb3VzIHN0ZXAgYXMgdGhlIGlucHV0IHRvIHRoZSBuZXh0IHN0ZXAuCmZ1bmN0aW9uIF91cGxvYWRGaWxlc0NvbnRpbnVlKG91dHB1dElkKSB7CiAgY29uc3Qgb3V0cHV0RWxlbWVudCA9IGRvY3VtZW50LmdldEVsZW1lbnRCeUlkKG91dHB1dElkKTsKICBjb25zdCBzdGVwcyA9IG91dHB1dEVsZW1lbnQuc3RlcHM7CgogIGNvbnN0IG5leHQgPSBzdGVwcy5uZXh0KG91dHB1dEVsZW1lbnQubGFzdFByb21pc2VWYWx1ZSk7CiAgcmV0dXJuIFByb21pc2UucmVzb2x2ZShuZXh0LnZhbHVlLnByb21pc2UpLnRoZW4oKHZhbHVlKSA9PiB7CiAgICAvLyBDYWNoZSB0aGUgbGFzdCBwcm9taXNlIHZhbHVlIHRvIG1ha2UgaXQgYXZhaWxhYmxlIHRvIHRoZSBuZXh0CiAgICAvLyBzdGVwIG9mIHRoZSBnZW5lcmF0b3IuCiAgICBvdXRwdXRFbGVtZW50Lmxhc3RQcm9taXNlVmFsdWUgPSB2YWx1ZTsKICAgIHJldHVybiBuZXh0LnZhbHVlLnJlc3BvbnNlOwogIH0pOwp9CgovKioKICogR2VuZXJhdG9yIGZ1bmN0aW9uIHdoaWNoIGlzIGNhbGxlZCBiZXR3ZWVuIGVhY2ggYXN5bmMgc3RlcCBvZiB0aGUgdXBsb2FkCiAqIHByb2Nlc3MuCiAqIEBwYXJhbSB7c3RyaW5nfSBpbnB1dElkIEVsZW1lbnQgSUQgb2YgdGhlIGlucHV0IGZpbGUgcGlja2VyIGVsZW1lbnQuCiAqIEBwYXJhbSB7c3RyaW5nfSBvdXRwdXRJZCBFbGVtZW50IElEIG9mIHRoZSBvdXRwdXQgZGlzcGxheS4KICogQHJldHVybiB7IUl0ZXJhYmxlPCFPYmplY3Q+fSBJdGVyYWJsZSBvZiBuZXh0IHN0ZXBzLgogKi8KZnVuY3Rpb24qIHVwbG9hZEZpbGVzU3RlcChpbnB1dElkLCBvdXRwdXRJZCkgewogIGNvbnN0IGlucHV0RWxlbWVudCA9IGRvY3VtZW50LmdldEVsZW1lbnRCeUlkKGlucHV0SWQpOwogIGlucHV0RWxlbWVudC5kaXNhYmxlZCA9IGZhbHNlOwoKICBjb25zdCBvdXRwdXRFbGVtZW50ID0gZG9jdW1lbnQuZ2V0RWxlbWVudEJ5SWQob3V0cHV0SWQpOwogIG91dHB1dEVsZW1lbnQuaW5uZXJIVE1MID0gJyc7CgogIGNvbnN0IHBpY2tlZFByb21pc2UgPSBuZXcgUHJvbWlzZSgocmVzb2x2ZSkgPT4gewogICAgaW5wdXRFbGVtZW50LmFkZEV2ZW50TGlzdGVuZXIoJ2NoYW5nZScsIChlKSA9PiB7CiAgICAgIHJlc29sdmUoZS50YXJnZXQuZmlsZXMpOwogICAgfSk7CiAgfSk7CgogIGNvbnN0IGNhbmNlbCA9IGRvY3VtZW50LmNyZWF0ZUVsZW1lbnQoJ2J1dHRvbicpOwogIGlucHV0RWxlbWVudC5wYXJlbnRFbGVtZW50LmFwcGVuZENoaWxkKGNhbmNlbCk7CiAgY2FuY2VsLnRleHRDb250ZW50ID0gJ0NhbmNlbCB1cGxvYWQnOwogIGNvbnN0IGNhbmNlbFByb21pc2UgPSBuZXcgUHJvbWlzZSgocmVzb2x2ZSkgPT4gewogICAgY2FuY2VsLm9uY2xpY2sgPSAoKSA9PiB7CiAgICAgIHJlc29sdmUobnVsbCk7CiAgICB9OwogIH0pOwoKICAvLyBXYWl0IGZvciB0aGUgdXNlciB0byBwaWNrIHRoZSBmaWxlcy4KICBjb25zdCBmaWxlcyA9IHlpZWxkIHsKICAgIHByb21pc2U6IFByb21pc2UucmFjZShbcGlja2VkUHJvbWlzZSwgY2FuY2VsUHJvbWlzZV0pLAogICAgcmVzcG9uc2U6IHsKICAgICAgYWN0aW9uOiAnc3RhcnRpbmcnLAogICAgfQogIH07CgogIGNhbmNlbC5yZW1vdmUoKTsKCiAgLy8gRGlzYWJsZSB0aGUgaW5wdXQgZWxlbWVudCBzaW5jZSBmdXJ0aGVyIHBpY2tzIGFyZSBub3QgYWxsb3dlZC4KICBpbnB1dEVsZW1lbnQuZGlzYWJsZWQgPSB0cnVlOwoKICBpZiAoIWZpbGVzKSB7CiAgICByZXR1cm4gewogICAgICByZXNwb25zZTogewogICAgICAgIGFjdGlvbjogJ2NvbXBsZXRlJywKICAgICAgfQogICAgfTsKICB9CgogIGZvciAoY29uc3QgZmlsZSBvZiBmaWxlcykgewogICAgY29uc3QgbGkgPSBkb2N1bWVudC5jcmVhdGVFbGVtZW50KCdsaScpOwogICAgbGkuYXBwZW5kKHNwYW4oZmlsZS5uYW1lLCB7Zm9udFdlaWdodDogJ2JvbGQnfSkpOwogICAgbGkuYXBwZW5kKHNwYW4oCiAgICAgICAgYCgke2ZpbGUudHlwZSB8fCAnbi9hJ30pIC0gJHtmaWxlLnNpemV9IGJ5dGVzLCBgICsKICAgICAgICBgbGFzdCBtb2RpZmllZDogJHsKICAgICAgICAgICAgZmlsZS5sYXN0TW9kaWZpZWREYXRlID8gZmlsZS5sYXN0TW9kaWZpZWREYXRlLnRvTG9jYWxlRGF0ZVN0cmluZygpIDoKICAgICAgICAgICAgICAgICAgICAgICAgICAgICAgICAgICAgJ24vYSd9IC0gYCkpOwogICAgY29uc3QgcGVyY2VudCA9IHNwYW4oJzAlIGRvbmUnKTsKICAgIGxpLmFwcGVuZENoaWxkKHBlcmNlbnQpOwoKICAgIG91dHB1dEVsZW1lbnQuYXBwZW5kQ2hpbGQobGkpOwoKICAgIGNvbnN0IGZpbGVEYXRhUHJvbWlzZSA9IG5ldyBQcm9taXNlKChyZXNvbHZlKSA9PiB7CiAgICAgIGNvbnN0IHJlYWRlciA9IG5ldyBGaWxlUmVhZGVyKCk7CiAgICAgIHJlYWRlci5vbmxvYWQgPSAoZSkgPT4gewogICAgICAgIHJlc29sdmUoZS50YXJnZXQucmVzdWx0KTsKICAgICAgfTsKICAgICAgcmVhZGVyLnJlYWRBc0FycmF5QnVmZmVyKGZpbGUpOwogICAgfSk7CiAgICAvLyBXYWl0IGZvciB0aGUgZGF0YSB0byBiZSByZWFkeS4KICAgIGxldCBmaWxlRGF0YSA9IHlpZWxkIHsKICAgICAgcHJvbWlzZTogZmlsZURhdGFQcm9taXNlLAogICAgICByZXNwb25zZTogewogICAgICAgIGFjdGlvbjogJ2NvbnRpbnVlJywKICAgICAgfQogICAgfTsKCiAgICAvLyBVc2UgYSBjaHVua2VkIHNlbmRpbmcgdG8gYXZvaWQgbWVzc2FnZSBzaXplIGxpbWl0cy4gU2VlIGIvNjIxMTU2NjAuCiAgICBsZXQgcG9zaXRpb24gPSAwOwogICAgZG8gewogICAgICBjb25zdCBsZW5ndGggPSBNYXRoLm1pbihmaWxlRGF0YS5ieXRlTGVuZ3RoIC0gcG9zaXRpb24sIE1BWF9QQVlMT0FEX1NJWkUpOwogICAgICBjb25zdCBjaHVuayA9IG5ldyBVaW50OEFycmF5KGZpbGVEYXRhLCBwb3NpdGlvbiwgbGVuZ3RoKTsKICAgICAgcG9zaXRpb24gKz0gbGVuZ3RoOwoKICAgICAgY29uc3QgYmFzZTY0ID0gYnRvYShTdHJpbmcuZnJvbUNoYXJDb2RlLmFwcGx5KG51bGwsIGNodW5rKSk7CiAgICAgIHlpZWxkIHsKICAgICAgICByZXNwb25zZTogewogICAgICAgICAgYWN0aW9uOiAnYXBwZW5kJywKICAgICAgICAgIGZpbGU6IGZpbGUubmFtZSwKICAgICAgICAgIGRhdGE6IGJhc2U2NCwKICAgICAgICB9LAogICAgICB9OwoKICAgICAgbGV0IHBlcmNlbnREb25lID0gZmlsZURhdGEuYnl0ZUxlbmd0aCA9PT0gMCA/CiAgICAgICAgICAxMDAgOgogICAgICAgICAgTWF0aC5yb3VuZCgocG9zaXRpb24gLyBmaWxlRGF0YS5ieXRlTGVuZ3RoKSAqIDEwMCk7CiAgICAgIHBlcmNlbnQudGV4dENvbnRlbnQgPSBgJHtwZXJjZW50RG9uZX0lIGRvbmVgOwoKICAgIH0gd2hpbGUgKHBvc2l0aW9uIDwgZmlsZURhdGEuYnl0ZUxlbmd0aCk7CiAgfQoKICAvLyBBbGwgZG9uZS4KICB5aWVsZCB7CiAgICByZXNwb25zZTogewogICAgICBhY3Rpb246ICdjb21wbGV0ZScsCiAgICB9CiAgfTsKfQoKc2NvcGUuZ29vZ2xlID0gc2NvcGUuZ29vZ2xlIHx8IHt9OwpzY29wZS5nb29nbGUuY29sYWIgPSBzY29wZS5nb29nbGUuY29sYWIgfHwge307CnNjb3BlLmdvb2dsZS5jb2xhYi5fZmlsZXMgPSB7CiAgX3VwbG9hZEZpbGVzLAogIF91cGxvYWRGaWxlc0NvbnRpbnVlLAp9Owp9KShzZWxmKTsK",
              "ok": true,
              "headers": [
                [
                  "content-type",
                  "application/javascript"
                ]
              ],
              "status": 200,
              "status_text": ""
            }
          },
          "base_uri": "https://localhost:8080/",
          "height": 73
        },
        "outputId": "5f763348-7b44-48a1-e8af-595da4754e65"
      },
      "source": [
        "uploaded = files.upload()"
      ],
      "execution_count": 4,
      "outputs": [
        {
          "output_type": "display_data",
          "data": {
            "text/html": [
              "\n",
              "     <input type=\"file\" id=\"files-c88690bb-2623-4435-b397-bc9a0c8ce03a\" name=\"files[]\" multiple disabled\n",
              "        style=\"border:none\" />\n",
              "     <output id=\"result-c88690bb-2623-4435-b397-bc9a0c8ce03a\">\n",
              "      Upload widget is only available when the cell has been executed in the\n",
              "      current browser session. Please rerun this cell to enable.\n",
              "      </output>\n",
              "      <script src=\"/nbextensions/google.colab/files.js\"></script> "
            ],
            "text/plain": [
              "<IPython.core.display.HTML object>"
            ]
          },
          "metadata": {
            "tags": []
          }
        },
        {
          "output_type": "stream",
          "text": [
            "Saving testeNovoDic.pkl to testeNovoDic.pkl\n"
          ],
          "name": "stdout"
        }
      ]
    },
    {
      "cell_type": "markdown",
      "metadata": {
        "id": "i9YIzttXI-5o"
      },
      "source": [
        "Carregando o arquivo em dicionario python\n"
      ]
    },
    {
      "cell_type": "code",
      "metadata": {
        "id": "oEzBrGQ2I9TC"
      },
      "source": [
        "a_file = open(\"testeNovoDic.pkl\", \"rb\")\n",
        "dicPronto = pickle.load(a_file)\n",
        "a_file.close()"
      ],
      "execution_count": 5,
      "outputs": []
    },
    {
      "cell_type": "markdown",
      "metadata": {
        "id": "IUgs6azdJg4W"
      },
      "source": [
        "Separando os arquivos em diferentes dicionario baseado em atividade"
      ]
    },
    {
      "cell_type": "code",
      "metadata": {
        "id": "03fHQiaVJaoS",
        "colab": {
          "base_uri": "https://localhost:8080/"
        },
        "outputId": "0907e0e3-8744-4cb3-9d37-8b4401a34c51"
      },
      "source": [
        "for i in dicPronto:\n",
        "            \n",
        "    if i == 'Slow walk (1.8 mph)' or i == '400m walk' or i == 'Carrying groceries':#i == 'Simulated Bowling' or i == 'Tai-chi' or i == 'Vacuuming' or i == 'Laundry' or i == 'Slow walk (1.8 mph)' or i == '400m walk' or i == 'Carrying groceries' or i == 'Crossword puzzles' or i == 'Playing cards' or i== 'Dusting' or i== 'Self-care (miscellaneous)' or i== 'Organizing the room' or i== 'Gardening':\n",
        "        for a in dicPronto[i]:\n",
        "            ds1['INFO1'].append(a[0])\n",
        "            ds1['INFO2'].append(a[1])\n",
        "            ds1['INFO3'].append(a[2])\n",
        "            ds1['INFO4'].append(a[3])\n",
        "            ds1['INFO5'].append(a[4])\n",
        "            ds1['INFO6'].append(a[5])\n",
        "            ds1['ACTIVITY'].append(i)\n",
        "            \n",
        "\n",
        "    else:\n",
        "        print(i)"
      ],
      "execution_count": 6,
      "outputs": [
        {
          "output_type": "stream",
          "text": [
            "Playing cards\n",
            "Laundry\n",
            "Dusting\n",
            "Vacuuming\n",
            "Simulated Bowling\n",
            "Crossword puzzles\n",
            "Self-care (miscellaneous)\n",
            "Organizing the room\n",
            "Gardening\n",
            "Tai-chi\n"
          ],
          "name": "stdout"
        }
      ]
    },
    {
      "cell_type": "code",
      "metadata": {
        "id": "Tvpmwig_BlLr",
        "colab": {
          "base_uri": "https://localhost:8080/"
        },
        "outputId": "06bda677-28a9-4c07-d4c3-53efa62fc7a2"
      },
      "source": [
        "print(len(ds1['INFO1']))\n",
        "print(len(ds1['INFO2']))\n",
        "print(len(ds1['INFO3']))\n",
        "print(len(ds1['INFO4']))\n",
        "print(len(ds1['INFO5']))\n",
        "print(len(ds1['INFO6']))\n",
        "print(len(ds1['ACTIVITY']))"
      ],
      "execution_count": 7,
      "outputs": [
        {
          "output_type": "stream",
          "text": [
            "21528\n",
            "21528\n",
            "21528\n",
            "21528\n",
            "21528\n",
            "21528\n",
            "21528\n"
          ],
          "name": "stdout"
        }
      ]
    },
    {
      "cell_type": "code",
      "metadata": {
        "id": "TU6Lw4FYvAvW"
      },
      "source": [
        "for a in range(len(ds1['INFO1'])):\n",
        "  ds1['VM'].append(sqrt(ds1['INFO1'][a]**2+ds1['INFO2'][a]**2+ds1['INFO3'][a]**2))"
      ],
      "execution_count": 8,
      "outputs": []
    },
    {
      "cell_type": "markdown",
      "metadata": {
        "id": "sxRrYoDbMTdI"
      },
      "source": [
        "Fazendo a criação do dataframe(Tabela)"
      ]
    },
    {
      "cell_type": "code",
      "metadata": {
        "id": "CJ69z7s1MJld"
      },
      "source": [
        "sep1 = pd.DataFrame(ds1)"
      ],
      "execution_count": 9,
      "outputs": []
    },
    {
      "cell_type": "markdown",
      "metadata": {
        "id": "h70gEx60M7__"
      },
      "source": [
        "Printando o historiograma e descrevendo o dataframe"
      ]
    },
    {
      "cell_type": "code",
      "metadata": {
        "id": "HNr_2HAyMxoy",
        "colab": {
          "base_uri": "https://localhost:8080/",
          "height": 650
        },
        "outputId": "2f86ee17-055f-4a60-f93c-487bd657d9c1"
      },
      "source": [
        "\n",
        "print('------------------------Cluster 1------------------------')\n",
        "print(sep1.describe())\n",
        "sep1.hist()\n"
      ],
      "execution_count": 10,
      "outputs": [
        {
          "output_type": "stream",
          "text": [
            "------------------------Cluster 1------------------------\n",
            "              INFO1         INFO2  ...         INFO6            VM\n",
            "count  21528.000000  21528.000000  ...  21528.000000  21528.000000\n",
            "mean      43.183993     37.608835  ...      1.069955     76.317797\n",
            "std       40.546892     35.577389  ...      0.368465     52.893639\n",
            "min        0.000000      0.000000  ...      0.000000      0.000000\n",
            "25%       23.000000     11.000000  ...      1.000000     47.039876\n",
            "50%       37.000000     30.000000  ...      1.000000     67.242100\n",
            "75%       53.000000     53.000000  ...      1.000000     92.326865\n",
            "max      684.000000    485.000000  ...      3.000000    726.881696\n",
            "\n",
            "[8 rows x 7 columns]\n"
          ],
          "name": "stdout"
        },
        {
          "output_type": "execute_result",
          "data": {
            "text/plain": [
              "array([[<matplotlib.axes._subplots.AxesSubplot object at 0x7fde14b34650>,\n",
              "        <matplotlib.axes._subplots.AxesSubplot object at 0x7fde14a86cd0>,\n",
              "        <matplotlib.axes._subplots.AxesSubplot object at 0x7fde14a4d390>],\n",
              "       [<matplotlib.axes._subplots.AxesSubplot object at 0x7fde14a04a10>,\n",
              "        <matplotlib.axes._subplots.AxesSubplot object at 0x7fde149c4110>,\n",
              "        <matplotlib.axes._subplots.AxesSubplot object at 0x7fde14979790>],\n",
              "       [<matplotlib.axes._subplots.AxesSubplot object at 0x7fde149aee90>,\n",
              "        <matplotlib.axes._subplots.AxesSubplot object at 0x7fde14970490>,\n",
              "        <matplotlib.axes._subplots.AxesSubplot object at 0x7fde149704d0>]],\n",
              "      dtype=object)"
            ]
          },
          "metadata": {
            "tags": []
          },
          "execution_count": 10
        },
        {
          "output_type": "display_data",
          "data": {
            "image/png": "[encoded data removed]",
            "text/plain": [
              "<Figure size 432x288 with 9 Axes>"
            ]
          },
          "metadata": {
            "tags": [],
            "needs_background": "light"
          }
        }
      ]
    },
    {
      "cell_type": "code",
      "metadata": {
        "id": "e9LADj96EynI",
        "colab": {
          "base_uri": "https://localhost:8080/"
        },
        "outputId": "3c2bc19f-2d0d-4856-e3ac-5a9694ef52d4"
      },
      "source": [
        "print(sep1)"
      ],
      "execution_count": 11,
      "outputs": [
        {
          "output_type": "stream",
          "text": [
            "       INFO1  INFO2  INFO3  INFO4  INFO5  INFO6         VM             ACTIVITY\n",
            "0          0      0      0      0     34      3   0.000000  Slow walk (1.8 mph)\n",
            "1          0     17      0      0      0      3  17.000000  Slow walk (1.8 mph)\n",
            "2          0     26      0      0      0      3  26.000000  Slow walk (1.8 mph)\n",
            "3          0      0      0      0      0      3   0.000000  Slow walk (1.8 mph)\n",
            "4          0      0      0      0      0      3   0.000000  Slow walk (1.8 mph)\n",
            "...      ...    ...    ...    ...    ...    ...        ...                  ...\n",
            "21523     75      4     12      2      0      1  76.059187   Carrying groceries\n",
            "21524     59      4      9      2      0      1  59.816386   Carrying groceries\n",
            "21525     61     19     11      1      0      1  64.830548   Carrying groceries\n",
            "21526     38     28      8      2      0      1  47.874837   Carrying groceries\n",
            "21527     13     11     33      0      0      1  37.134889   Carrying groceries\n",
            "\n",
            "[21528 rows x 8 columns]\n"
          ],
          "name": "stdout"
        }
      ]
    },
    {
      "cell_type": "code",
      "metadata": {
        "id": "R1obXgmJGrue"
      },
      "source": [
        "ohe=pd.get_dummies(sep1['ACTIVITY'])"
      ],
      "execution_count": 12,
      "outputs": []
    },
    {
      "cell_type": "code",
      "metadata": {
        "id": "Ij-1R8KSKZcz",
        "colab": {
          "base_uri": "https://localhost:8080/",
          "height": 417
        },
        "outputId": "4bc64ced-7030-4e70-d74e-4e6db2f8d30e"
      },
      "source": [
        "ohe"
      ],
      "execution_count": 13,
      "outputs": [
        {
          "output_type": "execute_result",
          "data": {
            "text/html": [
              "<div>\n",
              "<style scoped>\n",
              "    .dataframe tbody tr th:only-of-type {\n",
              "        vertical-align: middle;\n",
              "    }\n",
              "\n",
              "    .dataframe tbody tr th {\n",
              "        vertical-align: top;\n",
              "    }\n",
              "\n",
              "    .dataframe thead th {\n",
              "        text-align: right;\n",
              "    }\n",
              "</style>\n",
              "<table border=\"1\" class=\"dataframe\">\n",
              "  <thead>\n",
              "    <tr style=\"text-align: right;\">\n",
              "      <th></th>\n",
              "      <th>400m walk</th>\n",
              "      <th>Carrying groceries</th>\n",
              "      <th>Slow walk (1.8 mph)</th>\n",
              "    </tr>\n",
              "  </thead>\n",
              "  <tbody>\n",
              "    <tr>\n",
              "      <th>0</th>\n",
              "      <td>0</td>\n",
              "      <td>0</td>\n",
              "      <td>1</td>\n",
              "    </tr>\n",
              "    <tr>\n",
              "      <th>1</th>\n",
              "      <td>0</td>\n",
              "      <td>0</td>\n",
              "      <td>1</td>\n",
              "    </tr>\n",
              "    <tr>\n",
              "      <th>2</th>\n",
              "      <td>0</td>\n",
              "      <td>0</td>\n",
              "      <td>1</td>\n",
              "    </tr>\n",
              "    <tr>\n",
              "      <th>3</th>\n",
              "      <td>0</td>\n",
              "      <td>0</td>\n",
              "      <td>1</td>\n",
              "    </tr>\n",
              "    <tr>\n",
              "      <th>4</th>\n",
              "      <td>0</td>\n",
              "      <td>0</td>\n",
              "      <td>1</td>\n",
              "    </tr>\n",
              "    <tr>\n",
              "      <th>...</th>\n",
              "      <td>...</td>\n",
              "      <td>...</td>\n",
              "      <td>...</td>\n",
              "    </tr>\n",
              "    <tr>\n",
              "      <th>21523</th>\n",
              "      <td>0</td>\n",
              "      <td>1</td>\n",
              "      <td>0</td>\n",
              "    </tr>\n",
              "    <tr>\n",
              "      <th>21524</th>\n",
              "      <td>0</td>\n",
              "      <td>1</td>\n",
              "      <td>0</td>\n",
              "    </tr>\n",
              "    <tr>\n",
              "      <th>21525</th>\n",
              "      <td>0</td>\n",
              "      <td>1</td>\n",
              "      <td>0</td>\n",
              "    </tr>\n",
              "    <tr>\n",
              "      <th>21526</th>\n",
              "      <td>0</td>\n",
              "      <td>1</td>\n",
              "      <td>0</td>\n",
              "    </tr>\n",
              "    <tr>\n",
              "      <th>21527</th>\n",
              "      <td>0</td>\n",
              "      <td>1</td>\n",
              "      <td>0</td>\n",
              "    </tr>\n",
              "  </tbody>\n",
              "</table>\n",
              "<p>21528 rows × 3 columns</p>\n",
              "</div>"
            ],
            "text/plain": [
              "       400m walk  Carrying groceries  Slow walk (1.8 mph)\n",
              "0              0                   0                    1\n",
              "1              0                   0                    1\n",
              "2              0                   0                    1\n",
              "3              0                   0                    1\n",
              "4              0                   0                    1\n",
              "...          ...                 ...                  ...\n",
              "21523          0                   1                    0\n",
              "21524          0                   1                    0\n",
              "21525          0                   1                    0\n",
              "21526          0                   1                    0\n",
              "21527          0                   1                    0\n",
              "\n",
              "[21528 rows x 3 columns]"
            ]
          },
          "metadata": {
            "tags": []
          },
          "execution_count": 13
        }
      ]
    },
    {
      "cell_type": "markdown",
      "metadata": {
        "id": "PQc2tSVqNL_6"
      },
      "source": [
        "Fazendo o oversampling e separando os X e y"
      ]
    },
    {
      "cell_type": "code",
      "metadata": {
        "id": "CJfV0ZbxNCCU"
      },
      "source": [
        "X = sep1.iloc[:, :-1].values\n",
        "y = ohe.iloc[:, :].values"
      ],
      "execution_count": 14,
      "outputs": []
    },
    {
      "cell_type": "code",
      "metadata": {
        "id": "JhB4tTBrDPNG"
      },
      "source": [
        "#from sklearn.preprocessing import LabelEncoder\n",
        "#le = LabelEncoder()\n",
        "#y = le.fit_transform(y)\n",
        "#print(y)\n"
      ],
      "execution_count": 15,
      "outputs": []
    },
    {
      "cell_type": "code",
      "metadata": {
        "id": "mn50LsfD6sXi",
        "colab": {
          "base_uri": "https://localhost:8080/"
        },
        "outputId": "24972ba6-fd5d-48ca-e5e1-2dc77a1602b6"
      },
      "source": [
        "print(X)"
      ],
      "execution_count": 16,
      "outputs": [
        {
          "output_type": "stream",
          "text": [
            "[[ 0.          0.          0.         ... 34.          3.\n",
            "   0.        ]\n",
            " [ 0.         17.          0.         ...  0.          3.\n",
            "  17.        ]\n",
            " [ 0.         26.          0.         ...  0.          3.\n",
            "  26.        ]\n",
            " ...\n",
            " [61.         19.         11.         ...  0.          1.\n",
            "  64.83054835]\n",
            " [38.         28.          8.         ...  0.          1.\n",
            "  47.87483681]\n",
            " [13.         11.         33.         ...  0.          1.\n",
            "  37.13488926]]\n"
          ],
          "name": "stdout"
        }
      ]
    },
    {
      "cell_type": "code",
      "metadata": {
        "id": "H_5fxflhDXPH",
        "colab": {
          "base_uri": "https://localhost:8080/"
        },
        "outputId": "635451b3-08c8-4346-d2f3-7125dd46bf7f"
      },
      "source": [
        "print(y)"
      ],
      "execution_count": 17,
      "outputs": [
        {
          "output_type": "stream",
          "text": [
            "[[0 0 1]\n",
            " [0 0 1]\n",
            " [0 0 1]\n",
            " ...\n",
            " [0 1 0]\n",
            " [0 1 0]\n",
            " [0 1 0]]\n"
          ],
          "name": "stdout"
        }
      ]
    },
    {
      "cell_type": "markdown",
      "metadata": {
        "id": "4khQDhI_Nqx0"
      },
      "source": [
        "Regularizando os valores (A ideia é que os numeros não pesem na média e nos calculos)"
      ]
    },
    {
      "cell_type": "code",
      "metadata": {
        "id": "b4s8_xl_NnUk"
      },
      "source": [
        "from sklearn.preprocessing import StandardScaler\n",
        "sc = StandardScaler()\n",
        "X = sc.fit_transform(X)"
      ],
      "execution_count": 18,
      "outputs": []
    },
    {
      "cell_type": "markdown",
      "metadata": {
        "id": "BFuXT4bANazE"
      },
      "source": [
        "Separando os teste e treino para os futuros testes do classificador"
      ]
    },
    {
      "cell_type": "code",
      "metadata": {
        "id": "FZtmSQjHNVOj"
      },
      "source": [
        "from sklearn.model_selection import train_test_split\n",
        "X_train, X_test, y_train, y_test = train_test_split(X, y, test_size = 0.2, random_state = 42)"
      ],
      "execution_count": 19,
      "outputs": []
    },
    {
      "cell_type": "markdown",
      "metadata": {
        "id": "48KiMZKxOCk2"
      },
      "source": [
        "Criando ANN\n"
      ]
    },
    {
      "cell_type": "code",
      "metadata": {
        "id": "LEj0PmJaOBn3"
      },
      "source": [
        "ann = tf.keras.models.Sequential()"
      ],
      "execution_count": 20,
      "outputs": []
    },
    {
      "cell_type": "code",
      "metadata": {
        "id": "zojxcXDceK_S"
      },
      "source": [
        "ann.add(tf.keras.layers.Dense(units=32, activation='relu'))"
      ],
      "execution_count": 21,
      "outputs": []
    },
    {
      "cell_type": "code",
      "metadata": {
        "id": "EkOnvju8nLfg"
      },
      "source": [
        "ann.add(tf.keras.layers.Dense(units=32, activation='relu'))"
      ],
      "execution_count": 22,
      "outputs": []
    },
    {
      "cell_type": "code",
      "metadata": {
        "id": "nOuyYVf_Ky0U"
      },
      "source": [
        "ann.add(tf.keras.layers.Dense(units=3, activation='softmax'))"
      ],
      "execution_count": 23,
      "outputs": []
    },
    {
      "cell_type": "markdown",
      "metadata": {
        "id": "hQEFjQe9OW1e"
      },
      "source": [
        "Compilando ANN\n"
      ]
    },
    {
      "cell_type": "code",
      "metadata": {
        "id": "d8uDhYrqNmpY"
      },
      "source": [
        "ann.compile(optimizer = 'adam', loss = 'categorical_crossentropy', metrics = ['accuracy'])"
      ],
      "execution_count": 24,
      "outputs": []
    },
    {
      "cell_type": "markdown",
      "metadata": {
        "id": "t9ewKOya-L8W"
      },
      "source": [
        "Treinando ANN\n"
      ]
    },
    {
      "cell_type": "code",
      "metadata": {
        "id": "nQKREWASW-VZ",
        "colab": {
          "base_uri": "https://localhost:8080/"
        },
        "outputId": "62960358-47a9-4293-cd96-2027dcc72bb0"
      },
      "source": [
        "hist = ann.fit(X_train, y_train, batch_size = 32, epochs = 100)"
      ],
      "execution_count": 25,
      "outputs": [
        {
          "output_type": "stream",
          "text": [
            "Epoch 1/100\n",
            "539/539 [==============================] - 2s 2ms/step - loss: 0.8481 - accuracy: 0.6219\n",
            "Epoch 2/100\n",
            "539/539 [==============================] - 1s 1ms/step - loss: 0.7604 - accuracy: 0.6640\n",
            "Epoch 3/100\n",
            "539/539 [==============================] - 1s 1ms/step - loss: 0.7409 - accuracy: 0.6701\n",
            "Epoch 4/100\n",
            "539/539 [==============================] - 1s 1ms/step - loss: 0.7322 - accuracy: 0.6756\n",
            "Epoch 5/100\n",
            "539/539 [==============================] - 1s 1ms/step - loss: 0.7234 - accuracy: 0.6817\n",
            "Epoch 6/100\n",
            "539/539 [==============================] - 1s 1ms/step - loss: 0.7173 - accuracy: 0.6828\n",
            "Epoch 7/100\n",
            "539/539 [==============================] - 1s 1ms/step - loss: 0.7147 - accuracy: 0.6885\n",
            "Epoch 8/100\n",
            "539/539 [==============================] - 1s 1ms/step - loss: 0.7096 - accuracy: 0.6929\n",
            "Epoch 9/100\n",
            "539/539 [==============================] - 1s 1ms/step - loss: 0.7072 - accuracy: 0.6935\n",
            "Epoch 10/100\n",
            "539/539 [==============================] - 1s 1ms/step - loss: 0.7044 - accuracy: 0.6947\n",
            "Epoch 11/100\n",
            "539/539 [==============================] - 1s 1ms/step - loss: 0.7011 - accuracy: 0.6972\n",
            "Epoch 12/100\n",
            "539/539 [==============================] - 1s 1ms/step - loss: 0.6964 - accuracy: 0.7008\n",
            "Epoch 13/100\n",
            "539/539 [==============================] - 1s 1ms/step - loss: 0.6932 - accuracy: 0.7011\n",
            "Epoch 14/100\n",
            "539/539 [==============================] - 1s 1ms/step - loss: 0.6903 - accuracy: 0.7035\n",
            "Epoch 15/100\n",
            "539/539 [==============================] - 1s 1ms/step - loss: 0.6874 - accuracy: 0.7052\n",
            "Epoch 16/100\n",
            "539/539 [==============================] - 1s 1ms/step - loss: 0.6857 - accuracy: 0.7051\n",
            "Epoch 17/100\n",
            "539/539 [==============================] - 1s 1ms/step - loss: 0.6827 - accuracy: 0.7084\n",
            "Epoch 18/100\n",
            "539/539 [==============================] - 1s 1ms/step - loss: 0.6832 - accuracy: 0.7063\n",
            "Epoch 19/100\n",
            "539/539 [==============================] - 1s 1ms/step - loss: 0.6793 - accuracy: 0.7087\n",
            "Epoch 20/100\n",
            "539/539 [==============================] - 1s 1ms/step - loss: 0.6775 - accuracy: 0.7097\n",
            "Epoch 21/100\n",
            "539/539 [==============================] - 1s 1ms/step - loss: 0.6776 - accuracy: 0.7087\n",
            "Epoch 22/100\n",
            "539/539 [==============================] - 1s 1ms/step - loss: 0.6741 - accuracy: 0.7093\n",
            "Epoch 23/100\n",
            "539/539 [==============================] - 1s 1ms/step - loss: 0.6730 - accuracy: 0.7107\n",
            "Epoch 24/100\n",
            "539/539 [==============================] - 1s 1ms/step - loss: 0.6727 - accuracy: 0.7100\n",
            "Epoch 25/100\n",
            "539/539 [==============================] - 1s 1ms/step - loss: 0.6701 - accuracy: 0.7123\n",
            "Epoch 26/100\n",
            "539/539 [==============================] - 1s 1ms/step - loss: 0.6694 - accuracy: 0.7125\n",
            "Epoch 27/100\n",
            "539/539 [==============================] - 1s 1ms/step - loss: 0.6665 - accuracy: 0.7140\n",
            "Epoch 28/100\n",
            "539/539 [==============================] - 1s 1ms/step - loss: 0.6655 - accuracy: 0.7166\n",
            "Epoch 29/100\n",
            "539/539 [==============================] - 1s 1ms/step - loss: 0.6645 - accuracy: 0.7147\n",
            "Epoch 30/100\n",
            "539/539 [==============================] - 1s 1ms/step - loss: 0.6646 - accuracy: 0.7148\n",
            "Epoch 31/100\n",
            "539/539 [==============================] - 1s 1ms/step - loss: 0.6623 - accuracy: 0.7157\n",
            "Epoch 32/100\n",
            "539/539 [==============================] - 1s 1ms/step - loss: 0.6622 - accuracy: 0.7172\n",
            "Epoch 33/100\n",
            "539/539 [==============================] - 1s 1ms/step - loss: 0.6615 - accuracy: 0.7191\n",
            "Epoch 34/100\n",
            "539/539 [==============================] - 1s 1ms/step - loss: 0.6596 - accuracy: 0.7154\n",
            "Epoch 35/100\n",
            "539/539 [==============================] - 1s 1ms/step - loss: 0.6605 - accuracy: 0.7170\n",
            "Epoch 36/100\n",
            "539/539 [==============================] - 1s 1ms/step - loss: 0.6566 - accuracy: 0.7213\n",
            "Epoch 37/100\n",
            "539/539 [==============================] - 1s 1ms/step - loss: 0.6590 - accuracy: 0.7173\n",
            "Epoch 38/100\n",
            "539/539 [==============================] - 1s 1ms/step - loss: 0.6561 - accuracy: 0.7196\n",
            "Epoch 39/100\n",
            "539/539 [==============================] - 1s 1ms/step - loss: 0.6572 - accuracy: 0.7213\n",
            "Epoch 40/100\n",
            "539/539 [==============================] - 1s 1ms/step - loss: 0.6542 - accuracy: 0.7198\n",
            "Epoch 41/100\n",
            "539/539 [==============================] - 1s 1ms/step - loss: 0.6538 - accuracy: 0.7192\n",
            "Epoch 42/100\n",
            "539/539 [==============================] - 1s 1ms/step - loss: 0.6542 - accuracy: 0.7222\n",
            "Epoch 43/100\n",
            "539/539 [==============================] - 1s 1ms/step - loss: 0.6524 - accuracy: 0.7188\n",
            "Epoch 44/100\n",
            "539/539 [==============================] - 1s 1ms/step - loss: 0.6537 - accuracy: 0.7208\n",
            "Epoch 45/100\n",
            "539/539 [==============================] - 1s 1ms/step - loss: 0.6516 - accuracy: 0.7215\n",
            "Epoch 46/100\n",
            "539/539 [==============================] - 1s 1ms/step - loss: 0.6510 - accuracy: 0.7208\n",
            "Epoch 47/100\n",
            "539/539 [==============================] - 1s 1ms/step - loss: 0.6528 - accuracy: 0.7207\n",
            "Epoch 48/100\n",
            "539/539 [==============================] - 1s 1ms/step - loss: 0.6493 - accuracy: 0.7209\n",
            "Epoch 49/100\n",
            "539/539 [==============================] - 1s 1ms/step - loss: 0.6502 - accuracy: 0.7213\n",
            "Epoch 50/100\n",
            "539/539 [==============================] - 1s 1ms/step - loss: 0.6497 - accuracy: 0.7232\n",
            "Epoch 51/100\n",
            "539/539 [==============================] - 1s 1ms/step - loss: 0.6488 - accuracy: 0.7242\n",
            "Epoch 52/100\n",
            "539/539 [==============================] - 1s 1ms/step - loss: 0.6493 - accuracy: 0.7227\n",
            "Epoch 53/100\n",
            "539/539 [==============================] - 1s 1ms/step - loss: 0.6481 - accuracy: 0.7223\n",
            "Epoch 54/100\n",
            "539/539 [==============================] - 1s 1ms/step - loss: 0.6481 - accuracy: 0.7232\n",
            "Epoch 55/100\n",
            "539/539 [==============================] - 1s 1ms/step - loss: 0.6476 - accuracy: 0.7237\n",
            "Epoch 56/100\n",
            "539/539 [==============================] - 1s 1ms/step - loss: 0.6480 - accuracy: 0.7209\n",
            "Epoch 57/100\n",
            "539/539 [==============================] - 1s 1ms/step - loss: 0.6460 - accuracy: 0.7256\n",
            "Epoch 58/100\n",
            "539/539 [==============================] - 1s 1ms/step - loss: 0.6479 - accuracy: 0.7223\n",
            "Epoch 59/100\n",
            "539/539 [==============================] - 1s 1ms/step - loss: 0.6482 - accuracy: 0.7254\n",
            "Epoch 60/100\n",
            "539/539 [==============================] - 1s 1ms/step - loss: 0.6460 - accuracy: 0.7251\n",
            "Epoch 61/100\n",
            "539/539 [==============================] - 1s 1ms/step - loss: 0.6450 - accuracy: 0.7238\n",
            "Epoch 62/100\n",
            "539/539 [==============================] - 1s 1ms/step - loss: 0.6460 - accuracy: 0.7222\n",
            "Epoch 63/100\n",
            "539/539 [==============================] - 1s 1ms/step - loss: 0.6466 - accuracy: 0.7252\n",
            "Epoch 64/100\n",
            "539/539 [==============================] - 1s 1ms/step - loss: 0.6453 - accuracy: 0.7238\n",
            "Epoch 65/100\n",
            "539/539 [==============================] - 1s 1ms/step - loss: 0.6432 - accuracy: 0.7265\n",
            "Epoch 66/100\n",
            "539/539 [==============================] - 1s 1ms/step - loss: 0.6426 - accuracy: 0.7269\n",
            "Epoch 67/100\n",
            "539/539 [==============================] - 1s 1ms/step - loss: 0.6450 - accuracy: 0.7249\n",
            "Epoch 68/100\n",
            "539/539 [==============================] - 1s 1ms/step - loss: 0.6434 - accuracy: 0.7276\n",
            "Epoch 69/100\n",
            "539/539 [==============================] - 1s 1ms/step - loss: 0.6421 - accuracy: 0.7222\n",
            "Epoch 70/100\n",
            "539/539 [==============================] - 1s 1ms/step - loss: 0.6430 - accuracy: 0.7285\n",
            "Epoch 71/100\n",
            "539/539 [==============================] - 1s 1ms/step - loss: 0.6441 - accuracy: 0.7244\n",
            "Epoch 72/100\n",
            "539/539 [==============================] - 1s 1ms/step - loss: 0.6418 - accuracy: 0.7258\n",
            "Epoch 73/100\n",
            "539/539 [==============================] - 1s 1ms/step - loss: 0.6424 - accuracy: 0.7255\n",
            "Epoch 74/100\n",
            "539/539 [==============================] - 1s 1ms/step - loss: 0.6423 - accuracy: 0.7265\n",
            "Epoch 75/100\n",
            "539/539 [==============================] - 1s 1ms/step - loss: 0.6422 - accuracy: 0.7265\n",
            "Epoch 76/100\n",
            "539/539 [==============================] - 1s 1ms/step - loss: 0.6399 - accuracy: 0.7254\n",
            "Epoch 77/100\n",
            "539/539 [==============================] - 1s 1ms/step - loss: 0.6432 - accuracy: 0.7261\n",
            "Epoch 78/100\n",
            "539/539 [==============================] - 1s 1ms/step - loss: 0.6422 - accuracy: 0.7277\n",
            "Epoch 79/100\n",
            "539/539 [==============================] - 1s 1ms/step - loss: 0.6402 - accuracy: 0.7301\n",
            "Epoch 80/100\n",
            "539/539 [==============================] - 1s 1ms/step - loss: 0.6410 - accuracy: 0.7267\n",
            "Epoch 81/100\n",
            "539/539 [==============================] - 1s 1ms/step - loss: 0.6403 - accuracy: 0.7268\n",
            "Epoch 82/100\n",
            "539/539 [==============================] - 1s 1ms/step - loss: 0.6399 - accuracy: 0.7293\n",
            "Epoch 83/100\n",
            "539/539 [==============================] - 1s 1ms/step - loss: 0.6411 - accuracy: 0.7269\n",
            "Epoch 84/100\n",
            "539/539 [==============================] - 1s 1ms/step - loss: 0.6384 - accuracy: 0.7291\n",
            "Epoch 85/100\n",
            "539/539 [==============================] - 1s 1ms/step - loss: 0.6406 - accuracy: 0.7262\n",
            "Epoch 86/100\n",
            "539/539 [==============================] - 1s 1ms/step - loss: 0.6386 - accuracy: 0.7274\n",
            "Epoch 87/100\n",
            "539/539 [==============================] - 1s 1ms/step - loss: 0.6378 - accuracy: 0.7292\n",
            "Epoch 88/100\n",
            "539/539 [==============================] - 1s 1ms/step - loss: 0.6401 - accuracy: 0.7280\n",
            "Epoch 89/100\n",
            "539/539 [==============================] - 1s 1ms/step - loss: 0.6380 - accuracy: 0.7294\n",
            "Epoch 90/100\n",
            "539/539 [==============================] - 1s 1ms/step - loss: 0.6370 - accuracy: 0.7301\n",
            "Epoch 91/100\n",
            "539/539 [==============================] - 1s 1ms/step - loss: 0.6398 - accuracy: 0.7285\n",
            "Epoch 92/100\n",
            "539/539 [==============================] - 1s 1ms/step - loss: 0.6391 - accuracy: 0.7282\n",
            "Epoch 93/100\n",
            "539/539 [==============================] - 1s 1ms/step - loss: 0.6377 - accuracy: 0.7284\n",
            "Epoch 94/100\n",
            "539/539 [==============================] - 1s 1ms/step - loss: 0.6379 - accuracy: 0.7314\n",
            "Epoch 95/100\n",
            "539/539 [==============================] - 1s 1ms/step - loss: 0.6380 - accuracy: 0.7275\n",
            "Epoch 96/100\n",
            "539/539 [==============================] - 1s 1ms/step - loss: 0.6377 - accuracy: 0.7308\n",
            "Epoch 97/100\n",
            "539/539 [==============================] - 1s 1ms/step - loss: 0.6357 - accuracy: 0.7317\n",
            "Epoch 98/100\n",
            "539/539 [==============================] - 1s 1ms/step - loss: 0.6359 - accuracy: 0.7314\n",
            "Epoch 99/100\n",
            "539/539 [==============================] - 1s 1ms/step - loss: 0.6389 - accuracy: 0.7285\n",
            "Epoch 100/100\n",
            "539/539 [==============================] - 1s 1ms/step - loss: 0.6369 - accuracy: 0.7309\n"
          ],
          "name": "stdout"
        }
      ]
    },
    {
      "cell_type": "code",
      "metadata": {
        "id": "4HRDoeGGJGjn",
        "colab": {
          "base_uri": "https://localhost:8080/"
        },
        "outputId": "f40684d1-46db-4b13-d1eb-3440ae5ae2b7"
      },
      "source": [
        "perf = ann.evaluate(X_test,y_test)"
      ],
      "execution_count": 26,
      "outputs": [
        {
          "output_type": "stream",
          "text": [
            "135/135 [==============================] - 0s 977us/step - loss: 0.6597 - accuracy: 0.7197\n"
          ],
          "name": "stdout"
        }
      ]
    },
    {
      "cell_type": "markdown",
      "metadata": {
        "id": "q-MgA2Ozh4hx"
      },
      "source": [
        "media da acuracia\n"
      ]
    },
    {
      "cell_type": "code",
      "metadata": {
        "id": "HqndUN7Qh2Cg",
        "colab": {
          "base_uri": "https://localhost:8080/"
        },
        "outputId": "720bbbc5-681e-430d-8e26-2037ad0e92c9"
      },
      "source": [
        "np.mean(hist.history['accuracy'])"
      ],
      "execution_count": 27,
      "outputs": [
        {
          "output_type": "execute_result",
          "data": {
            "text/plain": [
              "0.7166020208597184"
            ]
          },
          "metadata": {
            "tags": []
          },
          "execution_count": 27
        }
      ]
    },
    {
      "cell_type": "markdown",
      "metadata": {
        "id": "ElZ65Ynth2rL"
      },
      "source": [
        "desvio padrão"
      ]
    },
    {
      "cell_type": "code",
      "metadata": {
        "id": "mvf6ju9zh3F3",
        "colab": {
          "base_uri": "https://localhost:8080/"
        },
        "outputId": "4a560fd8-faa8-4495-ff01-3e38cd29dcde"
      },
      "source": [
        "np.std(hist.history['accuracy'])"
      ],
      "execution_count": 28,
      "outputs": [
        {
          "output_type": "execute_result",
          "data": {
            "text/plain": [
              "0.016668585516973373"
            ]
          },
          "metadata": {
            "tags": []
          },
          "execution_count": 28
        }
      ]
    }
  ]
}