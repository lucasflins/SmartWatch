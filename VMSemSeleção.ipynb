{
  "nbformat": 4,
  "nbformat_minor": 0,
  "metadata": {
    "colab": {
      "name": "VMSemSeleção",
      "provenance": [],
      "collapsed_sections": []
    },
    "kernelspec": {
      "name": "python3",
      "display_name": "Python 3"
    }
  },
  "cells": [
    {
      "cell_type": "markdown",
      "metadata": {
        "id": "Ckv5ty6D-6_n"
      },
      "source": [
        "Importando bibliotecas usadas\n",
        "\n",
        "\n",
        "*   numpy usada para lidar com arrays\n",
        "*   matplotlib usada para lidar com plot de graficos\n",
        "*   pandas usada para lidar com dataframes (tabelas)\n",
        "*   csv para leitura de arquivos em csv\n",
        "*   pickle usada importar os dados em plk para ser usado em dicionario python\n",
        "*   coolab files para importar dados de fora para dentro do colab\n",
        "*   Classification_report para ver os resultados da classificação\n",
        "*   SMOTE para lidar com desbalanceamento de dados (oversampling)\n",
        "\n",
        "\n",
        "\n",
        "\n",
        "\n",
        "\n",
        "\n"
      ]
    },
    {
      "cell_type": "code",
      "metadata": {
        "id": "eS3QfZhV-UVC",
        "colab": {
          "base_uri": "https://localhost:8080/"
        },
        "outputId": "cd63ef66-8b26-412a-d96a-175a640fd613"
      },
      "source": [
        "# -*- coding: utf-8 -*-\n",
        "import numpy as np\n",
        "import matplotlib.pyplot as plt\n",
        "import pandas as pd\n",
        "import csv\n",
        "import pickle\n",
        "from google.colab import files\n",
        "from sklearn.metrics import classification_report\n",
        "from imblearn.over_sampling import SMOTE\n",
        "from math import sqrt"
      ],
      "execution_count": null,
      "outputs": [
        {
          "output_type": "stream",
          "text": [
            "/usr/local/lib/python3.7/dist-packages/sklearn/externals/six.py:31: FutureWarning: The module is deprecated in version 0.21 and will be removed in version 0.23 since we've dropped support for Python 2.7. Please rely on the official version of six (https://pypi.org/project/six/).\n",
            "  \"(https://pypi.org/project/six/).\", FutureWarning)\n",
            "/usr/local/lib/python3.7/dist-packages/sklearn/utils/deprecation.py:144: FutureWarning: The sklearn.neighbors.base module is  deprecated in version 0.22 and will be removed in version 0.24. The corresponding classes / functions should instead be imported from sklearn.neighbors. Anything that cannot be imported from sklearn.neighbors is now part of the private API.\n",
            "  warnings.warn(message, FutureWarning)\n"
          ],
          "name": "stderr"
        }
      ]
    },
    {
      "cell_type": "markdown",
      "metadata": {
        "id": "M3IBRkCcBYht"
      },
      "source": [
        "Criando dicionarios com os atributos\n",
        "\n",
        "A ideia de diferentes dicionarios é separar as atividades para facilitar o classificador ter menos dificuldades"
      ]
    },
    {
      "cell_type": "code",
      "metadata": {
        "id": "mscRd3-ZBSeT"
      },
      "source": [
        "ds1 = {'INFO1':[],'INFO2':[],'INFO3':[],'INFO4':[],'INFO5':[],'INFO6':[],'VM':[],'ACTIVITY':[]}\n",
        "ds2 = {'INFO1':[],'INFO2':[],'INFO3':[],'INFO4':[],'INFO5':[],'INFO6':[],'VM':[],'ACTIVITY':[]}\n",
        "ds3 = {'INFO1':[],'INFO2':[],'INFO3':[],'INFO4':[],'INFO5':[],'INFO6':[],'VM':[],'ACTIVITY':[]}\n",
        "ds4 = {'INFO1':[],'INFO2':[],'INFO3':[],'INFO4':[],'INFO5':[],'INFO6':[],'VM':[],'ACTIVITY':[]}\n",
        "ds5 = {'INFO1':[],'INFO2':[],'INFO3':[],'INFO4':[],'INFO5':[],'INFO6':[],'VM':[],'ACTIVITY':[]}"
      ],
      "execution_count": null,
      "outputs": []
    },
    {
      "cell_type": "markdown",
      "metadata": {
        "id": "Bx3_ucmzIxme"
      },
      "source": [
        "Fazendo upload do arquivo no colab"
      ]
    },
    {
      "cell_type": "code",
      "metadata": {
        "id": "KYjVZaAwIuUG",
        "colab": {
          "resources": {
            "http://localhost:8080/nbextensions/google.colab/files.js": {
              "data": "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",
              "ok": true,
              "headers": [
                [
                  "content-type",
                  "application/javascript"
                ]
              ],
              "status": 200,
              "status_text": "OK"
            }
          },
          "base_uri": "https://localhost:8080/",
          "height": 75
        },
        "outputId": "ee409e55-94b8-49f4-cb7c-1e3adcb058ff"
      },
      "source": [
        "uploaded = files.upload()"
      ],
      "execution_count": null,
      "outputs": [
        {
          "output_type": "display_data",
          "data": {
            "text/html": [
              "\n",
              "     <input type=\"file\" id=\"files-88602aff-c848-4a4a-9889-fa783d7b950e\" name=\"files[]\" multiple disabled\n",
              "        style=\"border:none\" />\n",
              "     <output id=\"result-88602aff-c848-4a4a-9889-fa783d7b950e\">\n",
              "      Upload widget is only available when the cell has been executed in the\n",
              "      current browser session. Please rerun this cell to enable.\n",
              "      </output>\n",
              "      <script src=\"/nbextensions/google.colab/files.js\"></script> "
            ],
            "text/plain": [
              "<IPython.core.display.HTML object>"
            ]
          },
          "metadata": {
            "tags": []
          }
        },
        {
          "output_type": "stream",
          "text": [
            "Saving testeNovoDic.pkl to testeNovoDic.pkl\n"
          ],
          "name": "stdout"
        }
      ]
    },
    {
      "cell_type": "markdown",
      "metadata": {
        "id": "i9YIzttXI-5o"
      },
      "source": [
        "Carregando o arquivo em dicionario python\n"
      ]
    },
    {
      "cell_type": "code",
      "metadata": {
        "id": "oEzBrGQ2I9TC"
      },
      "source": [
        "a_file = open(\"testeNovoDic.pkl\", \"rb\")\n",
        "dicPronto = pickle.load(a_file)\n",
        "a_file.close()"
      ],
      "execution_count": null,
      "outputs": []
    },
    {
      "cell_type": "markdown",
      "metadata": {
        "id": "IUgs6azdJg4W"
      },
      "source": [
        "Separando os arquivos em diferentes dicionario baseado em atividade"
      ]
    },
    {
      "cell_type": "code",
      "metadata": {
        "id": "03fHQiaVJaoS",
        "colab": {
          "base_uri": "https://localhost:8080/"
        },
        "outputId": "34533353-1e2d-4fef-a423-c639dbe21491"
      },
      "source": [
        "for i in dicPronto:\n",
        "            \n",
        "    if i == 'Vacuuming' or i == 'Laundry':\n",
        "        for a in dicPronto[i]:\n",
        "            ds1['INFO1'].append(a[0])\n",
        "            ds1['INFO2'].append(a[1])\n",
        "            ds1['INFO3'].append(a[2])\n",
        "            ds1['INFO4'].append(a[3])\n",
        "            ds1['INFO5'].append(a[4])\n",
        "            ds1['INFO6'].append(a[5])\n",
        "            ds1['ACTIVITY'].append(i)\n",
        "            \n",
        "    elif i == 'Simulated Bowling' or i == 'Tai-chi':\n",
        "        for a in dicPronto[i]:\n",
        "            ds2['INFO1'].append(a[0])\n",
        "            ds2['INFO2'].append(a[1])\n",
        "            ds2['INFO3'].append(a[2])\n",
        "            ds2['INFO4'].append(a[3])\n",
        "            ds2['INFO5'].append(a[4])\n",
        "            ds2['INFO6'].append(a[5])\n",
        "            ds2['ACTIVITY'].append(i)\n",
        "\n",
        "    elif i == 'Slow walk (1.8 mph)' or i == '400m walk' or i == 'Carrying groceries':\n",
        "        for a in dicPronto[i]:\n",
        "            ds3['INFO1'].append(a[0])\n",
        "            ds3['INFO2'].append(a[1])\n",
        "            ds3['INFO3'].append(a[2])\n",
        "            ds3['INFO4'].append(a[3])\n",
        "            ds3['INFO5'].append(a[4])\n",
        "            ds3['INFO6'].append(a[5])\n",
        "            ds3['ACTIVITY'].append(i)\n",
        "            \n",
        "    elif  i == 'Crossword puzzles' or i == 'Playing cards':\n",
        "        for a in dicPronto[i]:\n",
        "            ds4['INFO1'].append(a[0])\n",
        "            ds4['INFO2'].append(a[1])\n",
        "            ds4['INFO3'].append(a[2])\n",
        "            ds4['INFO4'].append(a[3])\n",
        "            ds4['INFO5'].append(a[4])\n",
        "            ds4['INFO6'].append(a[5])\n",
        "            ds4['ACTIVITY'].append(i)\n",
        "\n",
        "    else:\n",
        "        print(i)"
      ],
      "execution_count": null,
      "outputs": [
        {
          "output_type": "stream",
          "text": [
            "Dusting\n",
            "Self-care (miscellaneous)\n",
            "Organizing the room\n",
            "Gardening\n"
          ],
          "name": "stdout"
        }
      ]
    },
    {
      "cell_type": "code",
      "metadata": {
        "id": "TU6Lw4FYvAvW"
      },
      "source": [
        "for a in range(len(ds1['INFO1'])):\n",
        "  ds1['VM'].append(sqrt(ds1['INFO1'][a]**2+ds1['INFO2'][a]**2+ds1['INFO3'][a]**2))\n",
        "for a in range(len(ds2['INFO1'])):\n",
        "  ds2['VM'].append(sqrt(ds2['INFO1'][a]**2+ds2['INFO2'][a]**2+ds2['INFO3'][a]**2))\n",
        "for a in range(len(ds3['INFO1'])):\n",
        "  ds3['VM'].append(sqrt(ds3['INFO1'][a]**2+ds3['INFO2'][a]**2+ds3['INFO3'][a]**2))\n",
        "for a in range(len(ds4['INFO1'])):\n",
        "  ds4['VM'].append(sqrt(ds4['INFO1'][a]**2+ds4['INFO2'][a]**2+ds4['INFO3'][a]**2))"
      ],
      "execution_count": null,
      "outputs": []
    },
    {
      "cell_type": "markdown",
      "metadata": {
        "id": "sxRrYoDbMTdI"
      },
      "source": [
        "Fazendo a criação do dataframe(Tabela)"
      ]
    },
    {
      "cell_type": "code",
      "metadata": {
        "id": "CJ69z7s1MJld"
      },
      "source": [
        "sep1 = pd.DataFrame(ds1)\n",
        "sep2 = pd.DataFrame(ds2)\n",
        "sep3 = pd.DataFrame(ds3)\n",
        "sep4 = pd.DataFrame(ds4)"
      ],
      "execution_count": null,
      "outputs": []
    },
    {
      "cell_type": "markdown",
      "metadata": {
        "id": "h70gEx60M7__"
      },
      "source": [
        "Printando o historiograma e descrevendo o dataframe"
      ]
    },
    {
      "cell_type": "code",
      "metadata": {
        "id": "HNr_2HAyMxoy",
        "colab": {
          "base_uri": "https://localhost:8080/",
          "height": 1000
        },
        "outputId": "619ecba6-3b75-4dc7-faf3-c7ff16e97366"
      },
      "source": [
        "\n",
        "print('------------------------Cluster 1------------------------')\n",
        "print(sep1.describe())\n",
        "sep1.hist()\n",
        "print('------------------------Cluster 2------------------------')\n",
        "print(sep2.describe())\n",
        "sep2.hist()\n",
        "print('------------------------Cluster 3------------------------')\n",
        "print(sep3.describe())\n",
        "sep3.hist()\n",
        "print('------------------------Cluster 4------------------------')\n",
        "print(sep4.describe())\n",
        "sep4.hist()"
      ],
      "execution_count": null,
      "outputs": [
        {
          "output_type": "stream",
          "text": [
            "------------------------Cluster 1------------------------\n",
            "              INFO1         INFO2  ...         INFO6            VM\n",
            "count  11498.000000  11498.000000  ...  11498.000000  11498.000000\n",
            "mean      67.556706     70.632023  ...      1.159767    144.691468\n",
            "std       58.687808     51.906396  ...      0.529836     85.199999\n",
            "min        0.000000      0.000000  ...      0.000000      0.000000\n",
            "25%       23.000000     33.000000  ...      1.000000     80.056230\n",
            "50%       54.000000     60.000000  ...      1.000000    130.192166\n",
            "75%       96.000000     97.750000  ...      1.000000    197.269484\n",
            "max      565.000000    463.000000  ...      3.000000    660.838104\n",
            "\n",
            "[8 rows x 7 columns]\n",
            "------------------------Cluster 2------------------------\n",
            "              INFO1         INFO2  ...         INFO6            VM\n",
            "count  10605.000000  10605.000000  ...  10605.000000  10605.000000\n",
            "mean      55.603300     33.668930  ...      1.508911     83.080551\n",
            "std       96.255092     48.916839  ...      0.844156    117.041215\n",
            "min        0.000000      0.000000  ...      0.000000      0.000000\n",
            "25%        0.000000      0.000000  ...      1.000000      0.000000\n",
            "50%       22.000000     13.000000  ...      1.000000     50.537115\n",
            "75%       67.000000     51.000000  ...      2.000000    113.881517\n",
            "max      991.000000    469.000000  ...      3.000000   1201.615995\n",
            "\n",
            "[8 rows x 7 columns]\n",
            "------------------------Cluster 3------------------------\n",
            "              INFO1         INFO2  ...         INFO6            VM\n",
            "count  21528.000000  21528.000000  ...  21528.000000  21528.000000\n",
            "mean      43.183993     37.608835  ...      1.069955     76.317797\n",
            "std       40.546892     35.577389  ...      0.368465     52.893639\n",
            "min        0.000000      0.000000  ...      0.000000      0.000000\n",
            "25%       23.000000     11.000000  ...      1.000000     47.039876\n",
            "50%       37.000000     30.000000  ...      1.000000     67.242100\n",
            "75%       53.000000     53.000000  ...      1.000000     92.326865\n",
            "max      684.000000    485.000000  ...      3.000000    726.881696\n",
            "\n",
            "[8 rows x 7 columns]\n",
            "------------------------Cluster 4------------------------\n",
            "              INFO1         INFO2  ...         INFO6            VM\n",
            "count  10535.000000  10535.000000  ...  10535.000000  10535.000000\n",
            "mean      12.231419     19.993735  ...      1.780541     41.701134\n",
            "std       28.545900     43.239553  ...      0.538671     67.027359\n",
            "min        0.000000      0.000000  ...      0.000000      0.000000\n",
            "25%        0.000000      0.000000  ...      1.000000      0.000000\n",
            "50%        0.000000      0.000000  ...      2.000000      2.000000\n",
            "75%        7.000000     14.000000  ...      2.000000     59.000000\n",
            "max      238.000000    326.000000  ...      3.000000    422.375425\n",
            "\n",
            "[8 rows x 7 columns]\n"
          ],
          "name": "stdout"
        },
        {
          "output_type": "execute_result",
          "data": {
            "text/plain": [
              "array([[<matplotlib.axes._subplots.AxesSubplot object at 0x7f98064c3d10>,\n",
              "        <matplotlib.axes._subplots.AxesSubplot object at 0x7f98064e9b50>,\n",
              "        <matplotlib.axes._subplots.AxesSubplot object at 0x7f98064ae210>],\n",
              "       [<matplotlib.axes._subplots.AxesSubplot object at 0x7f9806464890>,\n",
              "        <matplotlib.axes._subplots.AxesSubplot object at 0x7f9806417ed0>,\n",
              "        <matplotlib.axes._subplots.AxesSubplot object at 0x7f98063d85d0>],\n",
              "       [<matplotlib.axes._subplots.AxesSubplot object at 0x7f9806390cd0>,\n",
              "        <matplotlib.axes._subplots.AxesSubplot object at 0x7f98063512d0>,\n",
              "        <matplotlib.axes._subplots.AxesSubplot object at 0x7f9806351310>]],\n",
              "      dtype=object)"
            ]
          },
          "metadata": {
            "tags": []
          },
          "execution_count": 8
        },
        {
          "output_type": "display_data",
          "data": {
            "image/png": "[encoded data removed]",
            "text/plain": [
              "<Figure size 432x288 with 9 Axes>"
            ]
          },
          "metadata": {
            "tags": [],
            "needs_background": "light"
          }
        },
        {
          "output_type": "display_data",
          "data": {
            "image/png": "[encoded data removed]",
            "text/plain": [
              "<Figure size 432x288 with 9 Axes>"
            ]
          },
          "metadata": {
            "tags": [],
            "needs_background": "light"
          }
        },
        {
          "output_type": "display_data",
          "data": {
            "image/png": "[encoded data removed]",
            "text/plain": [
              "<Figure size 432x288 with 9 Axes>"
            ]
          },
          "metadata": {
            "tags": [],
            "needs_background": "light"
          }
        },
        {
          "output_type": "display_data",
          "data": {
            "image/png": "[encoded data removed]",
            "text/plain": [
              "<Figure size 432x288 with 9 Axes>"
            ]
          },
          "metadata": {
            "tags": [],
            "needs_background": "light"
          }
        }
      ]
    },
    {
      "cell_type": "code",
      "metadata": {
        "id": "yyS7gNZTWjqc"
      },
      "source": [
        ""
      ],
      "execution_count": null,
      "outputs": []
    },
    {
      "cell_type": "markdown",
      "metadata": {
        "id": "PQc2tSVqNL_6"
      },
      "source": [
        "Fazendo o oversampling e separando os X e y"
      ]
    },
    {
      "cell_type": "code",
      "metadata": {
        "id": "CJfV0ZbxNCCU",
        "colab": {
          "base_uri": "https://localhost:8080/"
        },
        "outputId": "0d4dafd3-ea67-4e30-83d4-0a2a1d54f92d"
      },
      "source": [
        "smote = SMOTE('all')\n",
        "X1 = sep1.iloc[:, :-1].values\n",
        "y1 = sep1.iloc[:, -1].values\n",
        "print(f'X1 Antes do SMOTE {len(X1)}')\n",
        "X1, y1 = smote.fit_resample(X1, y1)\n",
        "print(f'X1 depois do SMOTE {len(X1)}')\n",
        "\n",
        "X2 = sep2.iloc[:, :-1].values\n",
        "y2 = sep2.iloc[:, -1].values\n",
        "print(f'X2 Antes do SMOTE {len(X2)}')\n",
        "X2, y2 = smote.fit_resample(X2, y2)\n",
        "print(print(f'X2 depois do SMOTE {len(X2)}'))\n",
        "\n",
        "X3 = sep3.iloc[:, :-1].values\n",
        "y3 = sep3.iloc[:, -1].values\n",
        "print(f'X3 Antes do SMOTE {len(X3)}')\n",
        "X3, y3 = smote.fit_resample(X3, y3)\n",
        "print(print(f'X3 depois do SMOTE {len(X3)}'))\n",
        "\n",
        "X4 = sep4.iloc[:, :-1].values\n",
        "y4 = sep4.iloc[:, -1].values\n",
        "print(f'X4 Antes do SMOTE {len(X4)}')\n",
        "X4, y4 = smote.fit_resample(X4, y4)\n",
        "print(print(f'X4 depois do SMOTE {len(X4)}'))"
      ],
      "execution_count": null,
      "outputs": [
        {
          "output_type": "stream",
          "text": [
            "X1 Antes do SMOTE 11498\n",
            "X1 depois do SMOTE 11558\n",
            "X2 Antes do SMOTE 10605\n",
            "X2 depois do SMOTE 10976\n",
            "None\n",
            "X3 Antes do SMOTE 21528\n"
          ],
          "name": "stdout"
        },
        {
          "output_type": "stream",
          "text": [
            "/usr/local/lib/python3.7/dist-packages/sklearn/utils/deprecation.py:87: FutureWarning: Function safe_indexing is deprecated; safe_indexing is deprecated in version 0.22 and will be removed in version 0.24.\n",
            "  warnings.warn(msg, category=FutureWarning)\n",
            "/usr/local/lib/python3.7/dist-packages/sklearn/utils/deprecation.py:87: FutureWarning: Function safe_indexing is deprecated; safe_indexing is deprecated in version 0.22 and will be removed in version 0.24.\n",
            "  warnings.warn(msg, category=FutureWarning)\n",
            "/usr/local/lib/python3.7/dist-packages/sklearn/utils/deprecation.py:87: FutureWarning: Function safe_indexing is deprecated; safe_indexing is deprecated in version 0.22 and will be removed in version 0.24.\n",
            "  warnings.warn(msg, category=FutureWarning)\n"
          ],
          "name": "stderr"
        },
        {
          "output_type": "stream",
          "text": [
            "X3 depois do SMOTE 32574\n",
            "None\n",
            "X4 Antes do SMOTE 10535\n",
            "X4 depois do SMOTE 11438\n",
            "None\n"
          ],
          "name": "stdout"
        },
        {
          "output_type": "stream",
          "text": [
            "/usr/local/lib/python3.7/dist-packages/sklearn/utils/deprecation.py:87: FutureWarning: Function safe_indexing is deprecated; safe_indexing is deprecated in version 0.22 and will be removed in version 0.24.\n",
            "  warnings.warn(msg, category=FutureWarning)\n",
            "/usr/local/lib/python3.7/dist-packages/sklearn/utils/deprecation.py:87: FutureWarning: Function safe_indexing is deprecated; safe_indexing is deprecated in version 0.22 and will be removed in version 0.24.\n",
            "  warnings.warn(msg, category=FutureWarning)\n"
          ],
          "name": "stderr"
        }
      ]
    },
    {
      "cell_type": "markdown",
      "metadata": {
        "id": "4khQDhI_Nqx0"
      },
      "source": [
        "Regularizando os valores (A ideia é que os numeros não pesem na média e nos calculos)"
      ]
    },
    {
      "cell_type": "code",
      "metadata": {
        "id": "b4s8_xl_NnUk"
      },
      "source": [
        "from sklearn.preprocessing import StandardScaler\n",
        "sc = StandardScaler()\n",
        "X1 = sc.fit_transform(X1)\n",
        "\n",
        "\n",
        "X2 = sc.fit_transform(X2)\n",
        "\n",
        "X3 = sc.fit_transform(X3)\n",
        "\n",
        "\n",
        "X4 = sc.fit_transform(X4)\n"
      ],
      "execution_count": null,
      "outputs": []
    },
    {
      "cell_type": "markdown",
      "metadata": {
        "id": "BFuXT4bANazE"
      },
      "source": [
        "Separando os teste e treino para os futuros testes do classificador"
      ]
    },
    {
      "cell_type": "code",
      "metadata": {
        "id": "FZtmSQjHNVOj"
      },
      "source": [
        "from sklearn.model_selection import train_test_split\n",
        "X_train1, X_test1, y_train1, y_test1 = train_test_split(X1, y1, test_size = 0.3, random_state = 42)\n",
        "\n",
        "X_train2, X_test2, y_train2, y_test2 = train_test_split(X2, y2, test_size = 0.3, random_state = 42)\n",
        "\n",
        "X_train3, X_test3, y_train3, y_test3 = train_test_split(X3, y3, test_size = 0.3, random_state = 42)\n",
        "\n",
        "X_train4, X_test4, y_train4, y_test4 = train_test_split(X4, y4, test_size = 0.3, random_state = 42)"
      ],
      "execution_count": null,
      "outputs": []
    },
    {
      "cell_type": "markdown",
      "metadata": {
        "id": "48KiMZKxOCk2"
      },
      "source": [
        "Criando o classificador (RF) e fazendo os treinos"
      ]
    },
    {
      "cell_type": "code",
      "metadata": {
        "id": "LEj0PmJaOBn3"
      },
      "source": [
        "from sklearn.ensemble import RandomForestClassifier\n",
        "clf_rf1 = RandomForestClassifier(n_estimators = 80, criterion = 'entropy', random_state = 42)\n",
        "clf_rf2 = RandomForestClassifier(n_estimators = 80, criterion = 'entropy', random_state = 42)\n",
        "clf_rf3 = RandomForestClassifier(n_estimators = 80, criterion = 'entropy', random_state = 42)\n",
        "clf_rf4 = RandomForestClassifier(n_estimators = 80, criterion = 'entropy', random_state = 42)\n",
        "\n",
        "\n",
        "clf_rf1.fit(X_train1, y_train1)\n",
        "y_pred1 = clf_rf1.predict(X_test1)\n",
        "\n",
        "clf_rf2.fit(X_train2, y_train2)\n",
        "y_pred2 = clf_rf2.predict(X_test2)\n",
        "\n",
        "clf_rf3.fit(X_train3, y_train3)\n",
        "y_pred3 = clf_rf3.predict(X_test3)\n",
        "\n",
        "clf_rf4.fit(X_train4, y_train4)\n",
        "y_pred4 = clf_rf4.predict(X_test4)"
      ],
      "execution_count": null,
      "outputs": []
    },
    {
      "cell_type": "code",
      "metadata": {
        "id": "gIZraBdeBigE"
      },
      "source": [
        "from sklearn.metrics import confusion_matrix, accuracy_score\n",
        "cm1 = confusion_matrix(y_test1, y_pred1)\n",
        "cm2 = confusion_matrix(y_test2, y_pred2)\n",
        "cm3 = confusion_matrix(y_test3, y_pred3)\n",
        "cm4 = confusion_matrix(y_test4, y_pred4)"
      ],
      "execution_count": null,
      "outputs": []
    },
    {
      "cell_type": "code",
      "metadata": {
        "colab": {
          "base_uri": "https://localhost:8080/"
        },
        "id": "pDEMIbhoB2HA",
        "outputId": "84219c00-4ba8-4db5-dee2-e057f744f6e2"
      },
      "source": [
        "print(\"Matriz Confusão 1\")\n",
        "print(cm1)\n",
        "print(\"Matriz Confusão 2\")\n",
        "print(cm2)\n",
        "print(\"Matriz Confusão 3\")\n",
        "print(cm3)\n",
        "print(\"Matriz Confusão 4\")\n",
        "print(cm4)"
      ],
      "execution_count": null,
      "outputs": [
        {
          "output_type": "stream",
          "text": [
            "Matriz Confusão 1\n",
            "[[1273  486]\n",
            " [ 420 1289]]\n",
            "Matriz Confusão 2\n",
            "[[1327  343]\n",
            " [ 345 1278]]\n",
            "Matriz Confusão 3\n",
            "[[2467  521  293]\n",
            " [ 384 2609  245]\n",
            " [ 380  252 2622]]\n",
            "Matriz Confusão 4\n",
            "[[1426  249]\n",
            " [ 552 1205]]\n"
          ],
          "name": "stdout"
        }
      ]
    },
    {
      "cell_type": "code",
      "metadata": {
        "colab": {
          "base_uri": "https://localhost:8080/"
        },
        "id": "nOuyYVf_Ky0U",
        "outputId": "8d201a22-cecb-4c8f-c3d0-c683de95122f"
      },
      "source": [
        "importance1 = clf_rf1.feature_importances_\n",
        "importance2 = clf_rf2.feature_importances_\n",
        "importance3 = clf_rf3.feature_importances_\n",
        "importance4 = clf_rf4.feature_importances_\n",
        "print(importance1)\n",
        "print(importance2)\n",
        "print(importance3)\n",
        "print(importance4)"
      ],
      "execution_count": null,
      "outputs": [
        {
          "output_type": "stream",
          "text": [
            "[0.1914025  0.17121152 0.18557117 0.03125392 0.12828812 0.01737689\n",
            " 0.27489588]\n",
            "[0.12636682 0.19819604 0.16435942 0.1028424  0.19537513 0.03874838\n",
            " 0.17411181]\n",
            "[0.17531866 0.22856563 0.21014475 0.07546079 0.07636563 0.00592111\n",
            " 0.22822344]\n",
            "[0.09113853 0.18580998 0.1573     0.01912702 0.28804309 0.05645962\n",
            " 0.20212176]\n"
          ],
          "name": "stdout"
        }
      ]
    },
    {
      "cell_type": "markdown",
      "metadata": {
        "id": "hQEFjQe9OW1e"
      },
      "source": [
        "Definindo o resultado e printando"
      ]
    },
    {
      "cell_type": "code",
      "metadata": {
        "id": "d8uDhYrqNmpY"
      },
      "source": [
        "from xgboost import XGBClassifier\n",
        "clf_xgb1 = XGBClassifier()\n",
        "clf_xgb2 = XGBClassifier()\n",
        "clf_xgb3 = XGBClassifier()\n",
        "clf_xgb4 = XGBClassifier()\n",
        "\n",
        "\n",
        "\n",
        "clf_xgb1.fit(X_train1, y_train1)\n",
        "y_pred1 = clf_xgb1.predict(X_test1)\n",
        "\n",
        "clf_xgb2.fit(X_train2, y_train2)\n",
        "y_pred2 = clf_xgb2.predict(X_test2)\n",
        "\n",
        "clf_xgb3.fit(X_train3, y_train3)\n",
        "y_pred3 = clf_xgb3.predict(X_test3)\n",
        "\n",
        "clf_xgb4.fit(X_train4, y_train4)\n",
        "y_pred4 = clf_xgb4.predict(X_test4)"
      ],
      "execution_count": null,
      "outputs": []
    },
    {
      "cell_type": "code",
      "metadata": {
        "id": "nQKREWASW-VZ"
      },
      "source": [
        "from sklearn.tree import DecisionTreeClassifier\n",
        "clf_DT1 = DecisionTreeClassifier(criterion = 'entropy', random_state = 42)\n",
        "clf_DT2 = DecisionTreeClassifier(criterion = 'entropy', random_state = 42)\n",
        "clf_DT3 = DecisionTreeClassifier(criterion = 'entropy', random_state = 42)\n",
        "clf_DT4 = DecisionTreeClassifier(criterion = 'entropy', random_state = 42)\n",
        "\n",
        "clf_DT1.fit(X_train1, y_train1)\n",
        "y_pred1 = clf_DT1.predict(X_test1)\n",
        "\n",
        "clf_DT2.fit(X_train2, y_train2)\n",
        "y_pred2 = clf_DT2.predict(X_test2)\n",
        "\n",
        "clf_DT3.fit(X_train3, y_train3)\n",
        "y_pred3 = clf_DT3.predict(X_test3)\n",
        "\n",
        "clf_DT4.fit(X_train4, y_train4)\n",
        "y_pred4 = clf_DT4.predict(X_test4)"
      ],
      "execution_count": null,
      "outputs": []
    },
    {
      "cell_type": "code",
      "metadata": {
        "id": "bs49cWsmXIrt"
      },
      "source": [
        "from sklearn.svm import SVC\n",
        "clf_SVM1 = SVC(kernel = 'linear', random_state = 42)\n",
        "clf_SVM2 = SVC(kernel = 'linear', random_state = 42)\n",
        "clf_SVM3 = SVC(kernel = 'linear', random_state = 42)\n",
        "clf_SVM4 = SVC(kernel = 'linear', random_state = 42)\n",
        "\n",
        "clf_SVM1.fit(X_train1, y_train1)\n",
        "y_pred1 = clf_SVM1.predict(X_test1)\n",
        "\n",
        "clf_SVM2.fit(X_train2, y_train2)\n",
        "y_pred2 = clf_SVM2.predict(X_test2)\n",
        "\n",
        "clf_SVM3.fit(X_train3, y_train3)\n",
        "y_pred3 = clf_SVM3.predict(X_test3)\n",
        "\n",
        "clf_SVM4.fit(X_train4, y_train4)\n",
        "y_pred4 = clf_SVM4.predict(X_test4)"
      ],
      "execution_count": null,
      "outputs": []
    },
    {
      "cell_type": "markdown",
      "metadata": {
        "id": "Fhx_EgdoNLkA"
      },
      "source": [
        "Usando CrossValidation\n"
      ]
    },
    {
      "cell_type": "code",
      "metadata": {
        "colab": {
          "base_uri": "https://localhost:8080/"
        },
        "id": "NEo0_QJWNMKz",
        "outputId": "d57ac4e4-cd08-4cff-cfc4-36d2ecb5a847"
      },
      "source": [
        "from sklearn.model_selection import cross_validate\n",
        "\n",
        "scoring_list = ['accuracy', 'precision_macro', 'recall_macro', 'f1_macro']\n",
        "\n",
        "scores_rf1 = cross_validate(clf_rf1, X1, y1, cv=10, scoring=scoring_list)\n",
        "scores_xg1 = cross_validate(clf_xgb1, X1, y1, cv=10, scoring=scoring_list)\n",
        "scores_DT1 = cross_validate(clf_DT1, X1, y1, cv=10, scoring=scoring_list)\n",
        "scores_SVM1 = cross_validate(clf_SVM1, X1, y1, cv=10, scoring=scoring_list)\n",
        "\n",
        "\n",
        "\n",
        "avg_scores_rf1 = []\n",
        "avg_scores_xg1 = []\n",
        "avg_scores_DT1 = []\n",
        "avg_scores_SVM1 = []\n",
        "\n",
        "for score in scoring_list:\n",
        "    avg_scores_rf1.append(scores_rf1['test_'+score].mean())\n",
        "    avg_scores_xg1.append(scores_xg1['test_'+score].mean())\n",
        "    avg_scores_DT1.append(scores_DT1['test_'+score].mean())\n",
        "    avg_scores_SVM1.append(scores_SVM1['test_'+score].mean())\n",
        "\n",
        "\n",
        "print('RF - ', avg_scores_rf1)\n",
        "print('XGBoost - ', avg_scores_xg1)\n",
        "print('DT - ', avg_scores_DT1)\n",
        "print('SVM - ', avg_scores_SVM1)"
      ],
      "execution_count": null,
      "outputs": [
        {
          "output_type": "stream",
          "text": [
            "RF -  [0.7309208496232718, 0.7329127071768949, 0.7309178845358105, 0.7303287457980543]\n",
            "XGBoost -  [0.7436399586572597, 0.7462956711975808, 0.7436375957254142, 0.7428482171952029]\n",
            "DT -  [0.6531410746116629, 0.6547829772263924, 0.6531363753575647, 0.6523196582528445]\n",
            "SVM -  [0.7438992495393879, 0.7490312895691568, 0.743898760442091, 0.7423303181237377]\n"
          ],
          "name": "stdout"
        }
      ]
    },
    {
      "cell_type": "code",
      "metadata": {
        "colab": {
          "base_uri": "https://localhost:8080/"
        },
        "id": "1lu3IWITPx06",
        "outputId": "7a6283aa-5163-4851-c05d-deab84da6e25"
      },
      "source": [
        "from sklearn.model_selection import cross_validate\n",
        "\n",
        "scoring_list = ['accuracy', 'precision_macro', 'recall_macro', 'f1_macro']\n",
        "\n",
        "scores_rf2 = cross_validate(clf_rf2, X2, y2, cv=10, scoring=scoring_list)\n",
        "scores_xg2 = cross_validate(clf_xgb2, X2, y2, cv=10, scoring=scoring_list)\n",
        "scores_DT2 = cross_validate(clf_DT2, X2, y2, cv=10, scoring=scoring_list)\n",
        "scores_SVM2 = cross_validate(clf_SVM2, X2, y2, cv=10, scoring=scoring_list)\n",
        "\n",
        "avg_scores_rf2 = []\n",
        "avg_scores_xg2 = []\n",
        "avg_scores_DT2 = []\n",
        "avg_scores_SVM2 = []\n",
        "\n",
        "for score in scoring_list:\n",
        "    avg_scores_rf2.append(scores_rf2['test_'+score].mean())\n",
        "    avg_scores_xg2.append(scores_xg2['test_'+score].mean())\n",
        "    avg_scores_DT2.append(scores_DT2['test_'+score].mean())\n",
        "    avg_scores_SVM2.append(scores_SVM2['test_'+score].mean())\n",
        "\n",
        "\n",
        "print('RF - ', avg_scores_rf2)\n",
        "print('XGBoost - ', avg_scores_xg2)\n",
        "print('DT - ', avg_scores_DT2)\n",
        "print('SVM - ', avg_scores_SVM2)"
      ],
      "execution_count": null,
      "outputs": [
        {
          "output_type": "stream",
          "text": [
            "RF -  [0.7832537986527256, 0.7918614795743497, 0.7832354446704693, 0.7816177610701674]\n",
            "XGBoost -  [0.7916345788231858, 0.7989778854840639, 0.7916207969366998, 0.7903507463578896]\n",
            "DT -  [0.7423506400134163, 0.7493705289297959, 0.7423312791671652, 0.7406035993560918]\n",
            "SVM -  [0.7547345550790115, 0.767122937976724, 0.7547312299735418, 0.7519678918113861]\n"
          ],
          "name": "stdout"
        }
      ]
    },
    {
      "cell_type": "code",
      "metadata": {
        "colab": {
          "base_uri": "https://localhost:8080/"
        },
        "id": "JyfRjOouQaFT",
        "outputId": "f634e2dc-a4af-4fe8-db1b-82e37ae5a4bb"
      },
      "source": [
        "from sklearn.model_selection import cross_validate\n",
        "\n",
        "scoring_list = ['accuracy', 'precision_macro', 'recall_macro', 'f1_macro']\n",
        "\n",
        "scores_rf3 = cross_validate(clf_rf3, X3, y3, cv=10, scoring=scoring_list)\n",
        "scores_xg3 = cross_validate(clf_xgb3, X3, y3, cv=10, scoring=scoring_list)\n",
        "scores_DT3 = cross_validate(clf_DT3, X3, y3, cv=10, scoring=scoring_list)\n",
        "scores_SVM3 = cross_validate(clf_SVM3, X3, y3, cv=10, scoring=scoring_list)\n",
        "\n",
        "avg_scores_rf3 = []\n",
        "avg_scores_xg3 = []\n",
        "avg_scores_DT3 = []\n",
        "avg_scores_SVM3 = []\n",
        "\n",
        "for score in scoring_list:\n",
        "    avg_scores_rf3.append(scores_rf3['test_'+score].mean())\n",
        "    avg_scores_xg3.append(scores_xg3['test_'+score].mean())\n",
        "    avg_scores_DT3.append(scores_DT3['test_'+score].mean())\n",
        "    avg_scores_SVM3.append(scores_SVM3['test_'+score].mean())\n",
        "\n",
        "\n",
        "print('RF - ', avg_scores_rf3)\n",
        "print('XGBoost - ', avg_scores_xg3)\n",
        "print('DT - ', avg_scores_DT3)\n",
        "print('SVM - ', avg_scores_SVM3)"
      ],
      "execution_count": null,
      "outputs": [
        {
          "output_type": "stream",
          "text": [
            "RF -  [0.7480006890763493, 0.7591383308145228, 0.7479962262336171, 0.7440545119292927]\n",
            "XGBoost -  [0.6589398138174509, 0.6691301986858608, 0.6589323975297955, 0.6531046079715799]\n",
            "DT -  [0.6836852033105068, 0.6899994597188543, 0.6836796768252836, 0.6796970043623103]\n",
            "SVM -  [0.5925299958365164, 0.5854761433402593, 0.5925203610821148, 0.577128110074778]\n"
          ],
          "name": "stdout"
        }
      ]
    },
    {
      "cell_type": "code",
      "metadata": {
        "colab": {
          "base_uri": "https://localhost:8080/"
        },
        "id": "0AAFQmV8QoRA",
        "outputId": "f213d548-350c-4434-8e61-a04b76af85a3"
      },
      "source": [
        "from sklearn.model_selection import cross_validate\n",
        "\n",
        "scoring_list = ['accuracy', 'precision_macro', 'recall_macro', 'f1_macro']\n",
        "\n",
        "scores_rf4 = cross_validate(clf_rf4, X4, y4, cv=10, scoring=scoring_list)\n",
        "scores_xg4 = cross_validate(clf_xgb4, X4, y4, cv=10, scoring=scoring_list)\n",
        "scores_DT4 = cross_validate(clf_DT4, X4, y4, cv=10, scoring=scoring_list)\n",
        "scores_SVM4 = cross_validate(clf_SVM4, X4, y4, cv=10, scoring=scoring_list)\n",
        "\n",
        "avg_scores_rf4 = []\n",
        "avg_scores_xg4 = []\n",
        "avg_scores_DT4 = []\n",
        "avg_scores_SVM4 = []\n",
        "\n",
        "for score in scoring_list:\n",
        "    avg_scores_rf4.append(scores_rf4['test_'+score].mean())\n",
        "    avg_scores_xg4.append(scores_xg4['test_'+score].mean())\n",
        "    avg_scores_DT4.append(scores_DT4['test_'+score].mean())\n",
        "    avg_scores_SVM4.append(scores_SVM4['test_'+score].mean())\n",
        "\n",
        "\n",
        "print('RF - ', avg_scores_rf4)\n",
        "print('XGBoost - ', avg_scores_xg4)\n",
        "print('DT - ', avg_scores_DT4)\n",
        "print('SVM - ', avg_scores_SVM4)"
      ],
      "execution_count": null,
      "outputs": [
        {
          "output_type": "stream",
          "text": [
            "RF -  [0.7282023750527686, 0.7426833782102032, 0.728215589139407, 0.7225167483836404]\n",
            "XGBoost -  [0.7288934927714456, 0.7506519022187783, 0.7289096848860421, 0.7220453416380737]\n",
            "DT -  [0.7012729505839742, 0.7164295536317216, 0.7012860825689197, 0.6943653784231426]\n",
            "SVM -  [0.6750292904820464, 0.7199378098613376, 0.6750471507476762, 0.6521371133634524]\n"
          ],
          "name": "stdout"
        }
      ]
    },
    {
      "cell_type": "code",
      "metadata": {
        "colab": {
          "base_uri": "https://localhost:8080/",
          "height": 1000
        },
        "id": "ctDbXYoVPBcb",
        "outputId": "bbb41cb0-4841-4d3d-f037-88dc33dda4f9"
      },
      "source": [
        "df1 = pd.DataFrame({'RF': avg_scores_rf1,\n",
        "                   'XGBoost': avg_scores_xg1,\n",
        "                   'DT': avg_scores_DT1,\n",
        "                   'SVM': avg_scores_SVM1}, index=scoring_list)\n",
        "df2 = pd.DataFrame({'RF': avg_scores_rf2,\n",
        "                   'XGBoost': avg_scores_xg2,\n",
        "                   'DT': avg_scores_DT2,\n",
        "                   'SVM': avg_scores_SVM2}, index=scoring_list)\n",
        "df3 = pd.DataFrame({'RF': avg_scores_rf3,\n",
        "                   'XGBoost': avg_scores_xg3,\n",
        "                   'DT': avg_scores_DT3,\n",
        "                   'SVM': avg_scores_SVM3}, index=scoring_list)\n",
        "df4 = pd.DataFrame({'RF': avg_scores_rf4,\n",
        "                   'XGBoost': avg_scores_xg4,\n",
        "                   'DT': avg_scores_DT4,\n",
        "                   'SVM': avg_scores_SVM4}, index=scoring_list)\n",
        "\n",
        "ax1 = df1.plot.bar(rot=0,title= 'HouseHold')\n",
        "ax2 = df2.plot.bar(rot=0,title= 'recreational')\n",
        "ax3 = df3.plot.bar(rot=0,title= 'locomotion')\n",
        "ax4 = df4.plot.bar(rot=0,title= 'sedentary')\n"
      ],
      "execution_count": null,
      "outputs": [
        {
          "output_type": "display_data",
          "data": {
            "image/png": "[encoded data removed]",
            "text/plain": [
              "<Figure size 432x288 with 1 Axes>"
            ]
          },
          "metadata": {
            "tags": [],
            "needs_background": "light"
          }
        },
        {
          "output_type": "display_data",
          "data": {
            "image/png": "[encoded data removed]",
            "text/plain": [
              "<Figure size 432x288 with 1 Axes>"
            ]
          },
          "metadata": {
            "tags": [],
            "needs_background": "light"
          }
        },
        {
          "output_type": "display_data",
          "data": {
            "image/png": "[encoded data removed]",
            "text/plain": [
              "<Figure size 432x288 with 1 Axes>"
            ]
          },
          "metadata": {
            "tags": [],
            "needs_background": "light"
          }
        },
        {
          "output_type": "display_data",
          "data": {
            "image/png": "[encoded data removed]",
            "text/plain": [
              "<Figure size 432x288 with 1 Axes>"
            ]
          },
          "metadata": {
            "tags": [],
            "needs_background": "light"
          }
        }
      ]
    },
    {
      "cell_type": "code",
      "metadata": {
        "id": "An-aImZo-ag8"
      },
      "source": [
        "df1 = pd.DataFrame({'RF': avg_scores_rf1}, index=scoring_list)\n",
        "\n",
        "ax1 = df1.plot.bar(rot=0,title= 'Teste')\n",
        "ax2 = df2.plot.bar(rot=0,title= 'recreational')\n",
        "ax3 = df3.plot.bar(rot=0,title= 'locomotion')\n",
        "ax4 = df4.plot.bar(rot=0,title= 'sedentary')\n"
      ],
      "execution_count": null,
      "outputs": []
    },
    {
      "cell_type": "code",
      "metadata": {
        "colab": {
          "base_uri": "https://localhost:8080/",
          "height": 300
        },
        "id": "AusWum_zENcH",
        "outputId": "609369ff-03c9-4aca-e251-d8d6990344f1"
      },
      "source": [
        "\n",
        "label = ['accuracy', 'precision_macro', 'recall_macro', 'f1_macro']\n",
        "\n",
        "xis = 1.5*np.arange(len(label))  # the label locations\n",
        "width = 0.3  # the width of the bars\n",
        "print(xis)\n",
        "\n",
        "fig, ax = plt.subplots()\n",
        "\n",
        "dt = ax.bar(xis, avg_scores_DT1 , width, label='DT', color='grey', hatch= '+')\n",
        "rf = ax.bar(xis + width,avg_scores_rf1 , width, label='RF', color='grey', hatch= '*')\n",
        "svm = ax.bar(xis - width, avg_scores_SVM1, width, label='SVM', color='grey', hatch= 'o')\n",
        "xbt = ax.bar(xis + 2*width, avg_scores_xg1, width, label='XGB', color='grey', hatch= '//')\n",
        "\n",
        "# Add some text for labels, title and custom x-axis tick labels, etc.\n",
        "ax.set_title('Household')\n",
        "ax.set_xticks(xis)\n",
        "ax.set_xticklabels(label)\n",
        "ax.legend()\n",
        "\n",
        "\n",
        "\n",
        "\n",
        "#fig.tight_layout()\n",
        "plt.ylim(0.62,0.82)\n",
        "plt.show()"
      ],
      "execution_count": null,
      "outputs": [
        {
          "output_type": "stream",
          "text": [
            "[0.  1.5 3.  4.5]\n"
          ],
          "name": "stdout"
        },
        {
          "output_type": "display_data",
          "data": {
            "image/png": "[encoded data removed]",
            "text/plain": [
              "<Figure size 432x288 with 1 Axes>"
            ]
          },
          "metadata": {
            "tags": [],
            "needs_background": "light"
          }
        }
      ]
    },
    {
      "cell_type": "code",
      "metadata": {
        "colab": {
          "base_uri": "https://localhost:8080/",
          "height": 300
        },
        "id": "UBJnBB94Ir-m",
        "outputId": "62c19aa5-bce3-4a1c-f463-caee7598e038"
      },
      "source": [
        "\n",
        "label = ['accuracy', 'precision_macro', 'recall_macro', 'f1_macro']\n",
        "\n",
        "xis = 1.5*np.arange(len(label))  # the label locations\n",
        "width = 0.3  # the width of the bars\n",
        "print(xis)\n",
        "\n",
        "fig, ax = plt.subplots()\n",
        "dt = ax.bar(xis,avg_scores_DT2 , width, label='DT', color='grey', hatch= '+')\n",
        "rf = ax.bar(xis + width,avg_scores_rf2 , width, label='RF', color='grey', hatch= '*')\n",
        "svm = ax.bar(xis - width, avg_scores_SVM2, width, label='SVM', color='grey', hatch= 'o')\n",
        "xbt = ax.bar(xis + 2*width, avg_scores_xg2, width, label='XGB', color='grey', hatch= '//')\n",
        "\n",
        "# Add some text for labels, title and custom x-axis tick labels, etc.\n",
        "ax.set_title('recreational')\n",
        "ax.set_xticks(xis)\n",
        "ax.set_xticklabels(label)\n",
        "ax.legend()\n",
        "\n",
        "\n",
        "\n",
        "\n",
        "#fig.tight_layout()\n",
        "plt.ylim(0.74,0.82)\n",
        "plt.show()"
      ],
      "execution_count": null,
      "outputs": [
        {
          "output_type": "stream",
          "text": [
            "[0.  1.5 3.  4.5]\n"
          ],
          "name": "stdout"
        },
        {
          "output_type": "display_data",
          "data": {
            "image/png": "[encoded data removed]",
            "text/plain": [
              "<Figure size 432x288 with 1 Axes>"
            ]
          },
          "metadata": {
            "tags": [],
            "needs_background": "light"
          }
        }
      ]
    },
    {
      "cell_type": "code",
      "metadata": {
        "colab": {
          "base_uri": "https://localhost:8080/",
          "height": 300
        },
        "id": "N3_FTSujJBVz",
        "outputId": "3fa93e39-2077-46db-c27d-909dda6a4391"
      },
      "source": [
        "\n",
        "label = ['accuracy', 'precision_macro', 'recall_macro', 'f1_macro']\n",
        "\n",
        "xis = 1.5*np.arange(len(label))  # the label locations\n",
        "width = 0.3  # the width of the bars\n",
        "print(xis)\n",
        "\n",
        "fig, ax = plt.subplots()\n",
        "dt = ax.bar(xis,avg_scores_DT3 , width, label='DT', color='grey', hatch= '+')\n",
        "rf = ax.bar(xis + width,avg_scores_rf3 , width, label='RF', color='grey', hatch= '*')\n",
        "svm = ax.bar(xis - width, avg_scores_SVM3, width, label='SVM', color='grey', hatch= 'o')\n",
        "xbt = ax.bar(xis + 2*width, avg_scores_xg3, width, label='XGB', color='grey', hatch= '//')\n",
        "\n",
        "# Add some text for labels, title and custom x-axis tick labels, etc.\n",
        "ax.set_title('locomotion')\n",
        "ax.set_xticks(xis)\n",
        "ax.set_xticklabels(label)\n",
        "ax.legend()\n",
        "\n",
        "\n",
        "\n",
        "\n",
        "#fig.tight_layout()\n",
        "plt.ylim(0.55,0.85)\n",
        "plt.show()"
      ],
      "execution_count": null,
      "outputs": [
        {
          "output_type": "stream",
          "text": [
            "[0.  1.5 3.  4.5]\n"
          ],
          "name": "stdout"
        },
        {
          "output_type": "display_data",
          "data": {
            "image/png": "[encoded data removed]",
            "text/plain": [
              "<Figure size 432x288 with 1 Axes>"
            ]
          },
          "metadata": {
            "tags": [],
            "needs_background": "light"
          }
        }
      ]
    },
    {
      "cell_type": "code",
      "metadata": {
        "colab": {
          "base_uri": "https://localhost:8080/",
          "height": 300
        },
        "id": "O6JpUlAtJLV3",
        "outputId": "09081932-5c37-42b2-bd22-6e9c10467107"
      },
      "source": [
        "\n",
        "label = ['accuracy', 'precision_macro', 'recall_macro', 'f1_macro']\n",
        "\n",
        "xis = 1.5*np.arange(len(label))  # the label locations\n",
        "width = 0.3  # the width of the bars\n",
        "print(xis)\n",
        "\n",
        "fig, ax = plt.subplots()\n",
        "dt = ax.bar(xis,avg_scores_DT4 , width, label='DT', color='grey', hatch= '+')\n",
        "rf = ax.bar(xis + width,avg_scores_rf4 , width, label='RF', color='grey', hatch= '*')\n",
        "svm = ax.bar(xis - width, avg_scores_SVM4, width, label='SVM', color='grey', hatch= 'o')\n",
        "xbt = ax.bar(xis + 2*width, avg_scores_xg4, width, label='XGB', color='grey', hatch= '//')\n",
        "\n",
        "# Add some text for labels, title and custom x-axis tick labels, etc.\n",
        "ax.set_title('sedentary')\n",
        "ax.set_xticks(xis)\n",
        "ax.set_xticklabels(label)\n",
        "ax.legend()\n",
        "\n",
        "\n",
        "\n",
        "\n",
        "#fig.tight_layout()\n",
        "plt.ylim(0.64,0.78)\n",
        "plt.show()"
      ],
      "execution_count": null,
      "outputs": [
        {
          "output_type": "stream",
          "text": [
            "[0.  1.5 3.  4.5]\n"
          ],
          "name": "stdout"
        },
        {
          "output_type": "display_data",
          "data": {
            "image/png": "[encoded data removed]",
            "text/plain": [
              "<Figure size 432x288 with 1 Axes>"
            ]
          },
          "metadata": {
            "tags": [],
            "needs_background": "light"
          }
        }
      ]
    }
  ]
}